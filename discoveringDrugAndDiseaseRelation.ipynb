{
  "cells": [
    {
      "cell_type": "code",
      "source": [
        "!pip install torch_geometric\n",
        "!pip install pyg-lib torch-scatter torch-sparse -f https://data.pyg.org/whl/torch-1.13.0+cu116.html\n",
        "!pip install dgl\n",
        "! pip install  torch-sparse"
      ],
      "metadata": {
        "colab": {
          "base_uri": "https://localhost:8080/",
          "height": 1000
        },
        "id": "FnLpTYniaZ4l",
        "outputId": "0aaed9df-cfea-47a1-c1e4-547d3b3679d7"
      },
      "execution_count": null,
      "outputs": [
        {
          "output_type": "stream",
          "name": "stdout",
          "text": [
            "Looking in indexes: https://pypi.org/simple, https://us-python.pkg.dev/colab-wheels/public/simple/\n",
            "Collecting torch_geometric\n",
            "  Downloading torch_geometric-2.2.0.tar.gz (564 kB)\n",
            "\u001b[K     |████████████████████████████████| 564 kB 4.2 MB/s \n",
            "\u001b[?25hRequirement already satisfied: tqdm in /usr/local/lib/python3.8/dist-packages (from torch_geometric) (4.64.1)\n",
            "Requirement already satisfied: numpy in /usr/local/lib/python3.8/dist-packages (from torch_geometric) (1.21.6)\n",
            "Requirement already satisfied: scipy in /usr/local/lib/python3.8/dist-packages (from torch_geometric) (1.7.3)\n",
            "Requirement already satisfied: jinja2 in /usr/local/lib/python3.8/dist-packages (from torch_geometric) (2.11.3)\n",
            "Requirement already satisfied: requests in /usr/local/lib/python3.8/dist-packages (from torch_geometric) (2.23.0)\n",
            "Requirement already satisfied: pyparsing in /usr/local/lib/python3.8/dist-packages (from torch_geometric) (3.0.9)\n",
            "Requirement already satisfied: scikit-learn in /usr/local/lib/python3.8/dist-packages (from torch_geometric) (1.0.2)\n",
            "Collecting psutil>=5.8.0\n",
            "  Downloading psutil-5.9.4-cp36-abi3-manylinux_2_12_x86_64.manylinux2010_x86_64.manylinux_2_17_x86_64.manylinux2014_x86_64.whl (280 kB)\n",
            "\u001b[K     |████████████████████████████████| 280 kB 52.7 MB/s \n",
            "\u001b[?25hRequirement already satisfied: MarkupSafe>=0.23 in /usr/local/lib/python3.8/dist-packages (from jinja2->torch_geometric) (2.0.1)\n",
            "Requirement already satisfied: chardet<4,>=3.0.2 in /usr/local/lib/python3.8/dist-packages (from requests->torch_geometric) (3.0.4)\n",
            "Requirement already satisfied: urllib3!=1.25.0,!=1.25.1,<1.26,>=1.21.1 in /usr/local/lib/python3.8/dist-packages (from requests->torch_geometric) (1.24.3)\n",
            "Requirement already satisfied: idna<3,>=2.5 in /usr/local/lib/python3.8/dist-packages (from requests->torch_geometric) (2.10)\n",
            "Requirement already satisfied: certifi>=2017.4.17 in /usr/local/lib/python3.8/dist-packages (from requests->torch_geometric) (2022.12.7)\n",
            "Requirement already satisfied: threadpoolctl>=2.0.0 in /usr/local/lib/python3.8/dist-packages (from scikit-learn->torch_geometric) (3.1.0)\n",
            "Requirement already satisfied: joblib>=0.11 in /usr/local/lib/python3.8/dist-packages (from scikit-learn->torch_geometric) (1.2.0)\n",
            "Building wheels for collected packages: torch-geometric\n",
            "  Building wheel for torch-geometric (setup.py) ... \u001b[?25l\u001b[?25hdone\n",
            "  Created wheel for torch-geometric: filename=torch_geometric-2.2.0-py3-none-any.whl size=773302 sha256=8ed5f6648afceda7530bead40c2e2d1576368350b100fc00e29b893c2fd32f56\n",
            "  Stored in directory: /root/.cache/pip/wheels/59/a3/20/198928106d3169865ae73afcbd3d3d1796cf6b429b55c65378\n",
            "Successfully built torch-geometric\n",
            "Installing collected packages: psutil, torch-geometric\n",
            "  Attempting uninstall: psutil\n",
            "    Found existing installation: psutil 5.4.8\n",
            "    Uninstalling psutil-5.4.8:\n",
            "      Successfully uninstalled psutil-5.4.8\n",
            "Successfully installed psutil-5.9.4 torch-geometric-2.2.0\n"
          ]
        },
        {
          "output_type": "display_data",
          "data": {
            "application/vnd.colab-display-data+json": {
              "pip_warning": {
                "packages": [
                  "psutil"
                ]
              }
            }
          },
          "metadata": {}
        },
        {
          "output_type": "stream",
          "name": "stdout",
          "text": [
            "Looking in indexes: https://pypi.org/simple, https://us-python.pkg.dev/colab-wheels/public/simple/\n",
            "Looking in links: https://data.pyg.org/whl/torch-1.13.0+cu116.html\n",
            "Collecting pyg-lib\n",
            "  Downloading https://data.pyg.org/whl/torch-1.13.0%2Bcu116/pyg_lib-0.1.0%2Bpt113cu116-cp38-cp38-linux_x86_64.whl (1.9 MB)\n",
            "\u001b[K     |████████████████████████████████| 1.9 MB 12.3 MB/s \n",
            "\u001b[?25hCollecting torch-scatter\n",
            "  Downloading https://data.pyg.org/whl/torch-1.13.0%2Bcu116/torch_scatter-2.1.0%2Bpt113cu116-cp38-cp38-linux_x86_64.whl (9.4 MB)\n",
            "\u001b[K     |████████████████████████████████| 9.4 MB 41.1 MB/s \n",
            "\u001b[?25hCollecting torch-sparse\n",
            "  Downloading https://data.pyg.org/whl/torch-1.13.0%2Bcu116/torch_sparse-0.6.16%2Bpt113cu116-cp38-cp38-linux_x86_64.whl (4.5 MB)\n",
            "\u001b[K     |████████████████████████████████| 4.5 MB 61.6 MB/s \n",
            "\u001b[?25hRequirement already satisfied: scipy in /usr/local/lib/python3.8/dist-packages (from torch-sparse) (1.7.3)\n",
            "Requirement already satisfied: numpy<1.23.0,>=1.16.5 in /usr/local/lib/python3.8/dist-packages (from scipy->torch-sparse) (1.21.6)\n",
            "Installing collected packages: torch-sparse, torch-scatter, pyg-lib\n",
            "Successfully installed pyg-lib-0.1.0+pt113cu116 torch-scatter-2.1.0+pt113cu116 torch-sparse-0.6.16+pt113cu116\n",
            "Looking in indexes: https://pypi.org/simple, https://us-python.pkg.dev/colab-wheels/public/simple/\n",
            "Collecting dgl\n",
            "  Downloading dgl-0.9.1-cp38-cp38-manylinux1_x86_64.whl (4.9 MB)\n",
            "\u001b[K     |████████████████████████████████| 4.9 MB 4.3 MB/s \n",
            "\u001b[?25hRequirement already satisfied: networkx>=2.1 in /usr/local/lib/python3.8/dist-packages (from dgl) (2.8.8)\n",
            "Requirement already satisfied: scipy>=1.1.0 in /usr/local/lib/python3.8/dist-packages (from dgl) (1.7.3)\n",
            "Requirement already satisfied: numpy>=1.14.0 in /usr/local/lib/python3.8/dist-packages (from dgl) (1.21.6)\n",
            "Requirement already satisfied: requests>=2.19.0 in /usr/local/lib/python3.8/dist-packages (from dgl) (2.23.0)\n",
            "Requirement already satisfied: tqdm in /usr/local/lib/python3.8/dist-packages (from dgl) (4.64.1)\n",
            "Requirement already satisfied: psutil>=5.8.0 in /usr/local/lib/python3.8/dist-packages (from dgl) (5.9.4)\n",
            "Requirement already satisfied: idna<3,>=2.5 in /usr/local/lib/python3.8/dist-packages (from requests>=2.19.0->dgl) (2.10)\n",
            "Requirement already satisfied: urllib3!=1.25.0,!=1.25.1,<1.26,>=1.21.1 in /usr/local/lib/python3.8/dist-packages (from requests>=2.19.0->dgl) (1.24.3)\n",
            "Requirement already satisfied: certifi>=2017.4.17 in /usr/local/lib/python3.8/dist-packages (from requests>=2.19.0->dgl) (2022.12.7)\n",
            "Requirement already satisfied: chardet<4,>=3.0.2 in /usr/local/lib/python3.8/dist-packages (from requests>=2.19.0->dgl) (3.0.4)\n",
            "Installing collected packages: dgl\n",
            "Successfully installed dgl-0.9.1\n",
            "Looking in indexes: https://pypi.org/simple, https://us-python.pkg.dev/colab-wheels/public/simple/\n",
            "Requirement already satisfied: torch-sparse in /usr/local/lib/python3.8/dist-packages (0.6.16+pt113cu116)\n",
            "Requirement already satisfied: scipy in /usr/local/lib/python3.8/dist-packages (from torch-sparse) (1.7.3)\n",
            "Requirement already satisfied: numpy<1.23.0,>=1.16.5 in /usr/local/lib/python3.8/dist-packages (from scipy->torch-sparse) (1.21.6)\n"
          ]
        }
      ]
    },
    {
      "cell_type": "code",
      "source": [
        "# src_node_ids=torch.tensor([0,0,0,1,1,2,2,3])\n",
        "# dest_node_ids=torch.tensor([1,2,4,2,3,3,4,4])\n",
        "# graph=dgl.graph((src_node_ids,dest_node_ids))\n",
        "\n",
        "# graph.ndata['test_mask']=torch.tensor([False,False,False,False,True])"
      ],
      "metadata": {
        "id": "x_D6HuY-OiW-"
      },
      "execution_count": null,
      "outputs": []
    },
    {
      "cell_type": "code",
      "source": [
        "# import torch\n",
        "# import dgl\n",
        "# from torch_geometric.data import Data\n",
        "# import networkx as nx\n",
        "# import matplotlib.pyplot as plt\n",
        "\n",
        "# torch.manual_seed(0)\n",
        "\n",
        "# # create edges between nodes (we have 15 nodes in this graph)\n",
        "# edge_index = torch.tensor([[ 0, 2, 3, 5, 5, 7, 8, 10, 11, 12, 13, 14, 14, 14],\n",
        "#                            [ 1,  1, 2, 4, 6, 8, 9, 9, 10, 10, 12, 11, 9, 8 ]])\n",
        "# edge_index = torch.cat([edge_index, edge_index.flip(0)], 1) # undirected graph\n",
        "\n",
        "# # features (just random here)\n",
        "# n_feats = 10\n",
        "# x = torch.randint(low=0, high=4, size=(edge_index.unique().size(0), n_feats))\n",
        "\n",
        "# # train, test, val masks for each node\n",
        "# train_mask = torch.tensor([True] * round(edge_index.unique().size(0) * 0.8) +\n",
        "#                           [False]* (edge_index.unique().size(0) - round(edge_index.unique().size(0) * 0.8)))\n",
        "# test_mask = torch.tensor([False] * round(edge_index.unique().size(0) * 0.8) +\n",
        "#                          [True]* (round(edge_index.unique().size(0) * 0.1)) +\n",
        "#                          [False]* (edge_index.unique().size(0) - round(edge_index.unique().size(0) * 0.8)\n",
        "#                                    - round(edge_index.unique().size(0) * 0.1)))\n",
        "# val_mask = torch.tensor([False] * round(edge_index.unique().size(0) * 0.8) +\n",
        "#                         [False]* (round(edge_index.unique().size(0) * 0.1)) +\n",
        "#                         [True]* (edge_index.unique().size(0) - round(edge_index.unique().size(0) * 0.8)\n",
        "#                                  - round(edge_index.unique().size(0) * 0.1)))\n",
        "# # new_data=dgl.graph((edge_index[0],edge_index[1]))\n",
        "# # new_data.ndata['train_mask']=train_mask\n",
        "# # new_data.ndata['val_mask']=val_mask\n",
        "# # new_data.ndata['test_mask']=test_mask\n",
        "# new_data = Data(edge_index=edge_index,\n",
        "#                 x=x,\n",
        "#                 train_mask = train_mask,\n",
        "#                 val_mask=val_mask,\n",
        "#                 test_mask=test_mask)\n",
        "\n",
        "# batch_size = 1\n",
        "\n",
        "# # plot the graph\n",
        "# G = nx.Graph()\n",
        "# G.add_edges_from([(r1, r2) for r1, r2 in zip(edge_index.numpy()[0], edge_index.numpy()[1])])\n",
        "# nx.draw(G, cmap = plt.get_cmap('jet'), with_labels=True)\n",
        "# plt.show()\n"
      ],
      "metadata": {
        "id": "zDBiA2gEOKbc"
      },
      "execution_count": null,
      "outputs": []
    },
    {
      "cell_type": "code",
      "source": [
        "# print(new_data.x)"
      ],
      "metadata": {
        "id": "bc9gW8EU-vqq"
      },
      "execution_count": null,
      "outputs": []
    },
    {
      "cell_type": "code",
      "source": [
        "# _max_z_ = 0\n",
        "\n",
        "# def extract_enclosing_subgraphs(df, link_index, edge_index, num_hops, y):\n",
        "#   data_list = []\n",
        "#   for src, dst in link_index.t().tolist():\n",
        "#         src_origin = src\n",
        "#         dst_origin = dst\n",
        "#         sub_nodes, sub_edge_index, mapping, _ = k_hop_subgraph(\n",
        "#             [src, dst], num_hops, edge_index, relabel_nodes=True)\n",
        "#         src, dst = mapping.tolist()\n",
        "\n",
        "#         # Remove target link from the subgraph.\n",
        "#         mask1 = (sub_edge_index[0] != src) | (sub_edge_index[1] != dst)\n",
        "#         mask2 = (sub_edge_index[0] != dst) | (sub_edge_index[1] != src)\n",
        "#         sub_edge_index = sub_edge_index[:, mask1 & mask2]\n",
        "\n",
        "#         # Calculate node labeling.\n",
        "#         z = drnl_node_labeling(sub_edge_index, src, dst,\n",
        "#                                num_nodes=sub_nodes.size(0))\n",
        "\n",
        "#         data = Data(x=df.x[sub_nodes], z=z, src=src_origin, dst=dst_origin,\n",
        "#                     edge_index=sub_edge_index, y=y, sub_nodes=sub_nodes)\n",
        "#         data_list.append(data)\n",
        "\n",
        "#   return data_list"
      ],
      "metadata": {
        "id": "cw_MQNCyQ221"
      },
      "execution_count": null,
      "outputs": []
    },
    {
      "cell_type": "code",
      "source": [
        "# from torch_geometric.utils import k_hop_subgraph, to_scipy_sparse_matrix\n",
        "# def drnl_node_labeling(edge_index, src, dst, num_nodes=None):\n",
        "#     global _max_z_\n",
        "#     # Double-radius node labeling (DRNL).\n",
        "#     src, dst = (dst, src) if src > dst else (src, dst)\n",
        "#     adj = to_scipy_sparse_matrix(edge_index, num_nodes=num_nodes).tocsr()  # to sparse adjacency matrix\n",
        "\n",
        "#     idx = list(range(src)) + list(range(src + 1, adj.shape[0]))\n",
        "#     adj_wo_src = adj[idx, :][:, idx]\n",
        "\n",
        "#     idx = list(range(dst)) + list(range(dst + 1, adj.shape[0]))\n",
        "#     adj_wo_dst = adj[idx, :][:, idx]\n",
        "\n",
        "#     dist2src = shortest_path(adj_wo_dst, directed=False, unweighted=True) # shortest path for between nodes\n",
        "#     dist2src = dist2src[:, src]\n",
        "#     dist2src = np.insert(dist2src, dst, 0, axis=0)\n",
        "#     dist2src = torch.from_numpy(dist2src)\n",
        "\n",
        "#     dist2dst = shortest_path(adj_wo_src, directed=False, unweighted=True)\n",
        "#     dist2dst = dist2dst[:, dst - 1]\n",
        "#     dist2dst = np.insert(dist2dst, src, 0, axis=0)\n",
        "#     dist2dst = torch.from_numpy(dist2dst)\n",
        "\n",
        "#     dist = dist2src + dist2dst\n",
        "#     dist_over_2, dist_mod_2 = dist // 2, dist % 2\n",
        "\n",
        "#     z = 1 + torch.min(dist2src, dist2dst)\n",
        "#     z += dist_over_2 * (dist_over_2 + dist_mod_2 - 1)\n",
        "#     z[src] = 1.\n",
        "#     z[dst] = 1.\n",
        "#     z[torch.isnan(z)] = 0.\n",
        "\n",
        "#     _max_z_ = max(int(z.max()), _max_z_)\n",
        "\n",
        "#     return z.to(torch.long)"
      ],
      "metadata": {
        "id": "38ODRD4MhWhW"
      },
      "execution_count": null,
      "outputs": []
    },
    {
      "cell_type": "code",
      "source": [
        "# import numpy as np\n",
        "# from scipy.sparse.csgraph import shortest_path\n",
        "# src_orig, dst_orig = 7, 12\n",
        "# num_hops = 2\n",
        "\n",
        "# sub_nodes, sub_edge_index, mapping, _ = k_hop_subgraph(\n",
        "#     [src_orig, dst_orig], num_hops, edge_index, relabel_nodes=True)\n",
        "# src, dst = mapping.tolist()\n",
        "# num_nodes = sub_nodes.size(0)\n",
        "\n",
        "# # Remove target link from the subgraph.\n",
        "# mask1 = (sub_edge_index[0] != src) | (sub_edge_index[1] != dst)\n",
        "# mask2 = (sub_edge_index[0] != dst) | (sub_edge_index[1] != src)\n",
        "# sub_edge_index = sub_edge_index[:, mask1 & mask2]\n",
        "\n",
        "# z_scores = drnl_node_labeling(sub_edge_index, src, dst, num_nodes)\n"
      ],
      "metadata": {
        "id": "ksTfPN6boX74"
      },
      "execution_count": null,
      "outputs": []
    },
    {
      "cell_type": "code",
      "source": [
        "# import math\n",
        "# import torch\n",
        "# from torch_geometric.utils import to_undirected\n",
        "\n",
        "\n",
        "# def train_test_split_edges(data, val_ratio=0.05, test_ratio=0.1):\n",
        "#     r\"\"\"Splits the edges of a :obj:`torch_geometric.data.Data` object\n",
        "#     into positive and negative train/val/test edges, and adds attributes of\n",
        "#     `train_pos_edge_index`, `train_neg_adj_mask`, `val_pos_edge_index`,\n",
        "#     `val_neg_edge_index`, `test_pos_edge_index`, and `test_neg_edge_index`\n",
        "#     to :attr:`data`.\n",
        "\n",
        "#     Args:\n",
        "#         data (Data): The data object.\n",
        "#         val_ratio (float, optional): The ratio of positive validation\n",
        "#             edges. (default: :obj:`0.05`)\n",
        "#         test_ratio (float, optional): The ratio of positive test\n",
        "#             edges. (default: :obj:`0.1`)\n",
        "\n",
        "#     :rtype: :class:`torch_geometric.data.Data`\n",
        "#     \"\"\"\n",
        "\n",
        "#     assert 'batch' not in data  # No batch-mode.\n",
        "\n",
        "#     num_nodes = data.num_nodes\n",
        "#     row, col = data.edge_index\n",
        "#     data.edge_index = None\n",
        "\n",
        "#     # Return upper triangular portion.\n",
        "#     mask = row < col\n",
        "#     row, col = row[mask], col[mask]\n",
        "\n",
        "#     n_v = int(math.floor(val_ratio * row.size(0)))\n",
        "#     n_t = int(math.floor(test_ratio * row.size(0)))\n",
        "\n",
        "#     # Positive edges.\n",
        "#     perm = torch.randperm(row.size(0))\n",
        "#     row, col = row[perm], col[perm]\n",
        "\n",
        "#     r, c = row[:n_v], col[:n_v]\n",
        "#     data.val_pos_edge_index = torch.stack([r, c], dim=0)\n",
        "#     r, c = row[n_v:n_v + n_t], col[n_v:n_v + n_t]\n",
        "#     data.test_pos_edge_index = torch.stack([r, c], dim=0)\n",
        "\n",
        "#     r, c = row[n_v + n_t:], col[n_v + n_t:]\n",
        "#     data.train_pos_edge_index = torch.stack([r, c], dim=0)\n",
        "#     data.train_pos_edge_index = to_undirected(data.train_pos_edge_index)\n",
        "\n",
        "#     # Negative edges.\n",
        "#     neg_adj_mask = torch.ones(num_nodes, num_nodes, dtype=torch.uint8)\n",
        "#     neg_adj_mask = neg_adj_mask.triu(diagonal=1).to(torch.bool)\n",
        "#     neg_adj_mask[row, col] = 0\n",
        "\n",
        "#     neg_row, neg_col = neg_adj_mask.nonzero(as_tuple=False).t()\n",
        "#     perm = torch.randperm(neg_row.size(0))[:n_v + n_t]\n",
        "#     neg_row, neg_col = neg_row[perm], neg_col[perm]\n",
        "\n",
        "#     neg_adj_mask[neg_row, neg_col] = 0\n",
        "#     data.train_neg_adj_mask = neg_adj_mask\n",
        "\n",
        "#     row, col = neg_row[:n_v], neg_col[:n_v]\n",
        "#     data.val_neg_edge_index = torch.stack([row, col], dim=0)\n",
        "\n",
        "#     row, col = neg_row[n_v:n_v + n_t], neg_col[n_v:n_v + n_t]\n",
        "#     data.test_neg_edge_index = torch.stack([row, col], dim=0)\n",
        "\n",
        "#     return data"
      ],
      "metadata": {
        "id": "azy2DV00pW5v"
      },
      "execution_count": null,
      "outputs": []
    },
    {
      "cell_type": "code",
      "source": [
        "import torch\n",
        "from torch.nn import ModuleList, Linear, Conv1d, MaxPool1d\n",
        "import torch_geometric\n",
        "import math\n",
        "from torch_geometric.nn import GCNConv, global_sort_pool\n",
        "from torch_geometric.utils import to_undirected\n",
        "\n",
        "class DGCNN(torch.nn.Module):\n",
        "    def __init__(self, hidden_channels, num_layers,data, GNN=torch_geometric.nn.GCNConv, k=0.6):\n",
        "        super(DGCNN, self).__init__()\n",
        "        train_dataset=[]\n",
        "        if k < 1:  # Transform percentile to number.\n",
        "            num_nodes = sorted([data.num_nodes for data in  train_dataset])\n",
        "            k = num_nodes[int(math.ceil(k * len(num_nodes))) - 1]\n",
        "            k = max(10, k)\n",
        "        self.k = int(k)\n",
        "\n",
        "        self.convs = ModuleList()\n",
        "        self.convs.append(GNN(train_dataset[0].num_features, hidden_channels, normalize=False, bias=False))\n",
        "        for i in range(0, num_layers - 1):\n",
        "            self.convs.append(GNN(hidden_channels, hidden_channels, normalize=False, bias=False))\n",
        "        self.convs.append(GNN(hidden_channels, 1, normalize=False, bias=False))\n",
        "\n",
        "        conv1d_channels = [4, 8]\n",
        "        total_latent_dim = hidden_channels * num_layers + 1\n",
        "        conv1d_kws = [total_latent_dim, 5]\n",
        "        self.conv1 = Conv1d(1, conv1d_channels[0], conv1d_kws[0],\n",
        "                            conv1d_kws[0], bias=False)\n",
        "        self.maxpool1d = MaxPool1d(2, 2)\n",
        "        self.conv2 = Conv1d(conv1d_channels[0], conv1d_channels[1],\n",
        "                            conv1d_kws[1], 1, bias=False)\n",
        "        dense_dim = int((self.k - 2) / 2 + 1)\n",
        "        dense_dim = (dense_dim - conv1d_kws[1] + 1) * conv1d_channels[1]\n",
        "        self.lin1 = Linear(dense_dim, 10)\n",
        "        self.lin2 = Linear(10, 1)\n",
        "    def forward(self, x, edge_index, batch):\n",
        "        xs = [x]\n",
        "        for conv in self.convs:\n",
        "            xs += [torch.tanh(conv(xs[-1], edge_index))]\n",
        "\n",
        "        x = torch.cat(xs[1:], dim=-1)\n",
        "\n",
        "        # Global pooling.\n",
        "        x = global_sort_pool(x, batch, self.k)\n",
        "        x = x.unsqueeze(1)  # [num_graphs, 1, k * hidden]\n",
        "        x = F.relu(self.conv1(x))\n",
        "        x = self.maxpool1d(x)\n",
        "        x = F.relu(self.conv2(x))\n",
        "        x = x.view(x.size(0), -1)  # [num_graphs, dense_dim]\n",
        "\n",
        "        # MLP.\n",
        "        x = F.relu(self.lin1(x))\n",
        "        x = F.dropout(x, p=0.5, training=self.training)\n",
        "        x = self.lin2(x)\n",
        "        return x"
      ],
      "metadata": {
        "id": "fxWJiHmLpbUB"
      },
      "execution_count": null,
      "outputs": []
    },
    {
      "cell_type": "code",
      "source": [
        "# from torch_geometric.loader import DataLoader\n",
        "# hidden_channel = 5\n",
        "# num_layers = 1\n",
        "\n",
        "# device = torch.device('cuda' if torch.cuda.is_available() else 'cpu')\n",
        "# data=new_data\n",
        "# model = DGCNN(hidden_channels=hidden_channel, num_layers=num_layers,data=data).to(device)\n",
        "# model.train()\n",
        "# for data in train_loader:\n",
        "#     data = data.to(device)\n",
        "#     data.edge_index = to_undirected(data.edge_index)\n",
        "#     data.edge_index = add_self_loops(data.edge_index)[0]\n",
        "#     break\n",
        "\n",
        "# # 2) Transform original features with a weight matrix\n",
        "# # weights from the convolutional layers\n",
        "# W0 = model.convs[0].weight\n",
        "# W1 = model.convs[1].weight"
      ],
      "metadata": {
        "id": "xF_cRu_hqM36"
      },
      "execution_count": null,
      "outputs": []
    },
    {
      "cell_type": "code",
      "source": [],
      "metadata": {
        "id": "4b0hb5hYwMBh"
      },
      "execution_count": null,
      "outputs": []
    },
    {
      "cell_type": "code",
      "source": [],
      "metadata": {
        "id": "TJ2IEo9cwM87"
      },
      "execution_count": null,
      "outputs": []
    },
    {
      "cell_type": "code",
      "source": [],
      "metadata": {
        "id": "XXUWHdfhwND_"
      },
      "execution_count": null,
      "outputs": []
    },
    {
      "cell_type": "code",
      "source": [],
      "metadata": {
        "id": "EWBWWas1wNK1"
      },
      "execution_count": null,
      "outputs": []
    },
    {
      "cell_type": "code",
      "source": [],
      "metadata": {
        "id": "eEJhuAP_wNSV"
      },
      "execution_count": null,
      "outputs": []
    },
    {
      "cell_type": "code",
      "source": [],
      "metadata": {
        "id": "85sNjvCZwNw8"
      },
      "execution_count": null,
      "outputs": []
    },
    {
      "cell_type": "code",
      "source": [
        "!pip install stellargraph"
      ],
      "metadata": {
        "colab": {
          "base_uri": "https://localhost:8080/"
        },
        "id": "EyzZ2FrjwN48",
        "outputId": "084e8262-ce2f-495e-a4e0-5524697e476e"
      },
      "execution_count": null,
      "outputs": [
        {
          "output_type": "stream",
          "name": "stdout",
          "text": [
            "Looking in indexes: https://pypi.org/simple, https://us-python.pkg.dev/colab-wheels/public/simple/\n",
            "Collecting stellargraph\n",
            "  Downloading stellargraph-1.2.1-py3-none-any.whl (435 kB)\n",
            "\u001b[K     |████████████████████████████████| 435 kB 4.0 MB/s \n",
            "\u001b[?25hRequirement already satisfied: scikit-learn>=0.20 in /usr/local/lib/python3.8/dist-packages (from stellargraph) (1.0.2)\n",
            "Requirement already satisfied: networkx>=2.2 in /usr/local/lib/python3.8/dist-packages (from stellargraph) (2.8.8)\n",
            "Requirement already satisfied: gensim>=3.4.0 in /usr/local/lib/python3.8/dist-packages (from stellargraph) (3.6.0)\n",
            "Requirement already satisfied: scipy>=1.1.0 in /usr/local/lib/python3.8/dist-packages (from stellargraph) (1.7.3)\n",
            "Requirement already satisfied: tensorflow>=2.1.0 in /usr/local/lib/python3.8/dist-packages (from stellargraph) (2.9.2)\n",
            "Requirement already satisfied: pandas>=0.24 in /usr/local/lib/python3.8/dist-packages (from stellargraph) (1.3.5)\n",
            "Requirement already satisfied: matplotlib>=2.2 in /usr/local/lib/python3.8/dist-packages (from stellargraph) (3.2.2)\n",
            "Requirement already satisfied: numpy>=1.14 in /usr/local/lib/python3.8/dist-packages (from stellargraph) (1.21.6)\n",
            "Requirement already satisfied: six>=1.5.0 in /usr/local/lib/python3.8/dist-packages (from gensim>=3.4.0->stellargraph) (1.15.0)\n",
            "Requirement already satisfied: smart-open>=1.2.1 in /usr/local/lib/python3.8/dist-packages (from gensim>=3.4.0->stellargraph) (6.3.0)\n",
            "Requirement already satisfied: python-dateutil>=2.1 in /usr/local/lib/python3.8/dist-packages (from matplotlib>=2.2->stellargraph) (2.8.2)\n",
            "Requirement already satisfied: pyparsing!=2.0.4,!=2.1.2,!=2.1.6,>=2.0.1 in /usr/local/lib/python3.8/dist-packages (from matplotlib>=2.2->stellargraph) (3.0.9)\n",
            "Requirement already satisfied: kiwisolver>=1.0.1 in /usr/local/lib/python3.8/dist-packages (from matplotlib>=2.2->stellargraph) (1.4.4)\n",
            "Requirement already satisfied: cycler>=0.10 in /usr/local/lib/python3.8/dist-packages (from matplotlib>=2.2->stellargraph) (0.11.0)\n",
            "Requirement already satisfied: pytz>=2017.3 in /usr/local/lib/python3.8/dist-packages (from pandas>=0.24->stellargraph) (2022.6)\n",
            "Requirement already satisfied: threadpoolctl>=2.0.0 in /usr/local/lib/python3.8/dist-packages (from scikit-learn>=0.20->stellargraph) (3.1.0)\n",
            "Requirement already satisfied: joblib>=0.11 in /usr/local/lib/python3.8/dist-packages (from scikit-learn>=0.20->stellargraph) (1.2.0)\n",
            "Requirement already satisfied: grpcio<2.0,>=1.24.3 in /usr/local/lib/python3.8/dist-packages (from tensorflow>=2.1.0->stellargraph) (1.51.1)\n",
            "Requirement already satisfied: tensorflow-estimator<2.10.0,>=2.9.0rc0 in /usr/local/lib/python3.8/dist-packages (from tensorflow>=2.1.0->stellargraph) (2.9.0)\n",
            "Requirement already satisfied: termcolor>=1.1.0 in /usr/local/lib/python3.8/dist-packages (from tensorflow>=2.1.0->stellargraph) (2.1.1)\n",
            "Requirement already satisfied: setuptools in /usr/local/lib/python3.8/dist-packages (from tensorflow>=2.1.0->stellargraph) (57.4.0)\n",
            "Requirement already satisfied: keras-preprocessing>=1.1.1 in /usr/local/lib/python3.8/dist-packages (from tensorflow>=2.1.0->stellargraph) (1.1.2)\n",
            "Requirement already satisfied: libclang>=13.0.0 in /usr/local/lib/python3.8/dist-packages (from tensorflow>=2.1.0->stellargraph) (14.0.6)\n",
            "Requirement already satisfied: tensorboard<2.10,>=2.9 in /usr/local/lib/python3.8/dist-packages (from tensorflow>=2.1.0->stellargraph) (2.9.1)\n",
            "Requirement already satisfied: keras<2.10.0,>=2.9.0rc0 in /usr/local/lib/python3.8/dist-packages (from tensorflow>=2.1.0->stellargraph) (2.9.0)\n",
            "Requirement already satisfied: h5py>=2.9.0 in /usr/local/lib/python3.8/dist-packages (from tensorflow>=2.1.0->stellargraph) (3.1.0)\n",
            "Requirement already satisfied: google-pasta>=0.1.1 in /usr/local/lib/python3.8/dist-packages (from tensorflow>=2.1.0->stellargraph) (0.2.0)\n",
            "Requirement already satisfied: protobuf<3.20,>=3.9.2 in /usr/local/lib/python3.8/dist-packages (from tensorflow>=2.1.0->stellargraph) (3.19.6)\n",
            "Requirement already satisfied: wrapt>=1.11.0 in /usr/local/lib/python3.8/dist-packages (from tensorflow>=2.1.0->stellargraph) (1.14.1)\n",
            "Requirement already satisfied: flatbuffers<2,>=1.12 in /usr/local/lib/python3.8/dist-packages (from tensorflow>=2.1.0->stellargraph) (1.12)\n",
            "Requirement already satisfied: packaging in /usr/local/lib/python3.8/dist-packages (from tensorflow>=2.1.0->stellargraph) (21.3)\n",
            "Requirement already satisfied: opt-einsum>=2.3.2 in /usr/local/lib/python3.8/dist-packages (from tensorflow>=2.1.0->stellargraph) (3.3.0)\n",
            "Requirement already satisfied: astunparse>=1.6.0 in /usr/local/lib/python3.8/dist-packages (from tensorflow>=2.1.0->stellargraph) (1.6.3)\n",
            "Requirement already satisfied: typing-extensions>=3.6.6 in /usr/local/lib/python3.8/dist-packages (from tensorflow>=2.1.0->stellargraph) (4.4.0)\n",
            "Requirement already satisfied: tensorflow-io-gcs-filesystem>=0.23.1 in /usr/local/lib/python3.8/dist-packages (from tensorflow>=2.1.0->stellargraph) (0.28.0)\n",
            "Requirement already satisfied: gast<=0.4.0,>=0.2.1 in /usr/local/lib/python3.8/dist-packages (from tensorflow>=2.1.0->stellargraph) (0.4.0)\n",
            "Requirement already satisfied: absl-py>=1.0.0 in /usr/local/lib/python3.8/dist-packages (from tensorflow>=2.1.0->stellargraph) (1.3.0)\n",
            "Requirement already satisfied: wheel<1.0,>=0.23.0 in /usr/local/lib/python3.8/dist-packages (from astunparse>=1.6.0->tensorflow>=2.1.0->stellargraph) (0.38.4)\n",
            "Requirement already satisfied: markdown>=2.6.8 in /usr/local/lib/python3.8/dist-packages (from tensorboard<2.10,>=2.9->tensorflow>=2.1.0->stellargraph) (3.4.1)\n",
            "Requirement already satisfied: werkzeug>=1.0.1 in /usr/local/lib/python3.8/dist-packages (from tensorboard<2.10,>=2.9->tensorflow>=2.1.0->stellargraph) (1.0.1)\n",
            "Requirement already satisfied: google-auth<3,>=1.6.3 in /usr/local/lib/python3.8/dist-packages (from tensorboard<2.10,>=2.9->tensorflow>=2.1.0->stellargraph) (2.15.0)\n",
            "Requirement already satisfied: tensorboard-plugin-wit>=1.6.0 in /usr/local/lib/python3.8/dist-packages (from tensorboard<2.10,>=2.9->tensorflow>=2.1.0->stellargraph) (1.8.1)\n",
            "Requirement already satisfied: google-auth-oauthlib<0.5,>=0.4.1 in /usr/local/lib/python3.8/dist-packages (from tensorboard<2.10,>=2.9->tensorflow>=2.1.0->stellargraph) (0.4.6)\n",
            "Requirement already satisfied: requests<3,>=2.21.0 in /usr/local/lib/python3.8/dist-packages (from tensorboard<2.10,>=2.9->tensorflow>=2.1.0->stellargraph) (2.23.0)\n",
            "Requirement already satisfied: tensorboard-data-server<0.7.0,>=0.6.0 in /usr/local/lib/python3.8/dist-packages (from tensorboard<2.10,>=2.9->tensorflow>=2.1.0->stellargraph) (0.6.1)\n",
            "Requirement already satisfied: cachetools<6.0,>=2.0.0 in /usr/local/lib/python3.8/dist-packages (from google-auth<3,>=1.6.3->tensorboard<2.10,>=2.9->tensorflow>=2.1.0->stellargraph) (5.2.0)\n",
            "Requirement already satisfied: rsa<5,>=3.1.4 in /usr/local/lib/python3.8/dist-packages (from google-auth<3,>=1.6.3->tensorboard<2.10,>=2.9->tensorflow>=2.1.0->stellargraph) (4.9)\n",
            "Requirement already satisfied: pyasn1-modules>=0.2.1 in /usr/local/lib/python3.8/dist-packages (from google-auth<3,>=1.6.3->tensorboard<2.10,>=2.9->tensorflow>=2.1.0->stellargraph) (0.2.8)\n",
            "Requirement already satisfied: requests-oauthlib>=0.7.0 in /usr/local/lib/python3.8/dist-packages (from google-auth-oauthlib<0.5,>=0.4.1->tensorboard<2.10,>=2.9->tensorflow>=2.1.0->stellargraph) (1.3.1)\n",
            "Requirement already satisfied: importlib-metadata>=4.4 in /usr/local/lib/python3.8/dist-packages (from markdown>=2.6.8->tensorboard<2.10,>=2.9->tensorflow>=2.1.0->stellargraph) (5.1.0)\n",
            "Requirement already satisfied: zipp>=0.5 in /usr/local/lib/python3.8/dist-packages (from importlib-metadata>=4.4->markdown>=2.6.8->tensorboard<2.10,>=2.9->tensorflow>=2.1.0->stellargraph) (3.11.0)\n",
            "Requirement already satisfied: pyasn1<0.5.0,>=0.4.6 in /usr/local/lib/python3.8/dist-packages (from pyasn1-modules>=0.2.1->google-auth<3,>=1.6.3->tensorboard<2.10,>=2.9->tensorflow>=2.1.0->stellargraph) (0.4.8)\n",
            "Requirement already satisfied: idna<3,>=2.5 in /usr/local/lib/python3.8/dist-packages (from requests<3,>=2.21.0->tensorboard<2.10,>=2.9->tensorflow>=2.1.0->stellargraph) (2.10)\n",
            "Requirement already satisfied: urllib3!=1.25.0,!=1.25.1,<1.26,>=1.21.1 in /usr/local/lib/python3.8/dist-packages (from requests<3,>=2.21.0->tensorboard<2.10,>=2.9->tensorflow>=2.1.0->stellargraph) (1.24.3)\n",
            "Requirement already satisfied: certifi>=2017.4.17 in /usr/local/lib/python3.8/dist-packages (from requests<3,>=2.21.0->tensorboard<2.10,>=2.9->tensorflow>=2.1.0->stellargraph) (2022.12.7)\n",
            "Requirement already satisfied: chardet<4,>=3.0.2 in /usr/local/lib/python3.8/dist-packages (from requests<3,>=2.21.0->tensorboard<2.10,>=2.9->tensorflow>=2.1.0->stellargraph) (3.0.4)\n",
            "Requirement already satisfied: oauthlib>=3.0.0 in /usr/local/lib/python3.8/dist-packages (from requests-oauthlib>=0.7.0->google-auth-oauthlib<0.5,>=0.4.1->tensorboard<2.10,>=2.9->tensorflow>=2.1.0->stellargraph) (3.2.2)\n",
            "Installing collected packages: stellargraph\n",
            "Successfully installed stellargraph-1.2.1\n"
          ]
        }
      ]
    },
    {
      "cell_type": "code",
      "source": [
        "import math\n",
        "import os.path as osp\n",
        "from itertools import chain\n",
        "\n",
        "import numpy as np\n",
        "import torch\n",
        "import torch.nn.functional as F\n",
        "from scipy.sparse.csgraph import shortest_path\n",
        "from sklearn.metrics import roc_auc_score\n",
        "from torch.nn import BCEWithLogitsLoss, Conv1d, MaxPool1d, ModuleList\n",
        "\n",
        "from torch_geometric.data import Data, InMemoryDataset\n",
        "from torch_geometric.datasets import Planetoid\n",
        "from torch_geometric.loader import DataLoader\n",
        "from torch_geometric.nn import MLP, GCNConv, global_sort_pool\n",
        "from torch_geometric.transforms import RandomLinkSplit\n",
        "from torch_geometric.utils import k_hop_subgraph, to_scipy_sparse_matrix\n",
        "\n",
        "\n",
        "class SEALDataset(InMemoryDataset):\n",
        "    def __init__(self, dataset, num_hops, split='train'):\n",
        "        self.data = dataset\n",
        "        self.num_hops = num_hops\n",
        "        # super().__init__(dataset.root)\n",
        "        super().__init__('/klasor')\n",
        "        index = ['train', 'val', 'test'].index(split)\n",
        "        self.data, self.slices = torch.load(self.processed_paths[index])\n",
        "\n",
        "    @property\n",
        "    def processed_file_names(self):\n",
        "        return ['SEAL_train_data.pt', 'SEAL_val_data.pt', 'SEAL_test_data.pt']\n",
        "\n",
        "    def process(self):\n",
        "        transform = RandomLinkSplit(num_val=0.05, num_test=0.1,\n",
        "                                    is_undirected=True, split_labels=True)\n",
        "        train_data, val_data, test_data = transform(self.data)\n",
        "\n",
        "        self._max_z = 0\n",
        "\n",
        "        # Collect a list of subgraphs for training, validation and testing:\n",
        "        train_pos_data_list = self.extract_enclosing_subgraphs(\n",
        "            train_data.edge_index, train_data.pos_edge_label_index, 1)\n",
        "        train_neg_data_list = self.extract_enclosing_subgraphs(\n",
        "            train_data.edge_index, train_data.neg_edge_label_index, 0)\n",
        "\n",
        "        val_pos_data_list = self.extract_enclosing_subgraphs(\n",
        "            val_data.edge_index, val_data.pos_edge_label_index, 1)\n",
        "        val_neg_data_list = self.extract_enclosing_subgraphs(\n",
        "            val_data.edge_index, val_data.neg_edge_label_index, 0)\n",
        "\n",
        "        test_pos_data_list = self.extract_enclosing_subgraphs(\n",
        "            test_data.edge_index, test_data.pos_edge_label_index, 1)\n",
        "        test_neg_data_list = self.extract_enclosing_subgraphs(\n",
        "            test_data.edge_index, test_data.neg_edge_label_index, 0)\n",
        "\n",
        "        # Convert node labeling to one-hot features.\n",
        "        for data in chain(train_pos_data_list, train_neg_data_list,\n",
        "                          val_pos_data_list, val_neg_data_list,\n",
        "                          test_pos_data_list, test_neg_data_list):\n",
        "            # We solely learn links from structure, dropping any node features:\n",
        "            data.x = F.one_hot(data.z, self._max_z + 1).to(torch.float)\n",
        "\n",
        "        torch.save(self.collate(train_pos_data_list + train_neg_data_list),\n",
        "                   self.processed_paths[0])\n",
        "        torch.save(self.collate(val_pos_data_list + val_neg_data_list),\n",
        "                   self.processed_paths[1])\n",
        "        torch.save(self.collate(test_pos_data_list + test_neg_data_list),\n",
        "                   self.processed_paths[2])\n",
        "\n",
        "    def extract_enclosing_subgraphs(self, edge_index, edge_label_index, y):\n",
        "        data_list = []\n",
        "        for src, dst in edge_label_index.t().tolist():\n",
        "            sub_nodes, sub_edge_index, mapping, _ = k_hop_subgraph(\n",
        "                [src, dst], self.num_hops, edge_index, relabel_nodes=True)\n",
        "            src, dst = mapping.tolist()\n",
        "\n",
        "            # Remove target link from the subgraph.\n",
        "            mask1 = (sub_edge_index[0] != src) | (sub_edge_index[1] != dst)\n",
        "            mask2 = (sub_edge_index[0] != dst) | (sub_edge_index[1] != src)\n",
        "            sub_edge_index = sub_edge_index[:, mask1 & mask2]\n",
        "\n",
        "            # Calculate node labeling.\n",
        "            z = self.drnl_node_labeling(sub_edge_index, src, dst,\n",
        "                                        num_nodes=sub_nodes.size(0))\n",
        "\n",
        "            data = Data(x=self.data.x[sub_nodes], z=z,\n",
        "                        edge_index=sub_edge_index, y=y)\n",
        "            data_list.append(data)\n",
        "\n",
        "        return data_list\n",
        "\n",
        "    def drnl_node_labeling(self, edge_index, src, dst, num_nodes=None):\n",
        "        # Double-radius node labeling (DRNL).\n",
        "        src, dst = (dst, src) if src > dst else (src, dst)\n",
        "        adj = to_scipy_sparse_matrix(edge_index, num_nodes=1506).tocsr()\n",
        "\n",
        "        idx = list(range(src)) + list(range(src + 1, adj.shape[0]))\n",
        "        adj_wo_src = adj[idx, :][:, idx]\n",
        "\n",
        "        idx = list(range(dst)) + list(range(dst + 1, adj.shape[0]))\n",
        "        adj_wo_dst = adj[idx, :][:, idx]\n",
        "\n",
        "        dist2src = shortest_path(adj_wo_dst, directed=False, unweighted=True,indices=src)\n",
        "        dist2src = np.insert(dist2src, dst, 0, axis=0)\n",
        "        dist2src = torch.from_numpy(dist2src)\n",
        "\n",
        "        dist2dst = shortest_path(adj_wo_src, directed=False, unweighted=True,\n",
        "                                 indices=dst - 1)\n",
        "        dist2dst = np.insert(dist2dst, src, 0, axis=0)\n",
        "        dist2dst = torch.from_numpy(dist2dst)\n",
        "\n",
        "        dist = dist2src + dist2dst\n",
        "        dist_over_2, dist_mod_2 = dist // 2, dist % 2\n",
        "\n",
        "        z = 1 + torch.min(dist2src, dist2dst)\n",
        "        z += dist_over_2 * (dist_over_2 + dist_mod_2 - 1)\n",
        "        z[src] = 1.\n",
        "        z[dst] = 1.\n",
        "        z[torch.isnan(z)] = 0.\n",
        "\n",
        "        self._max_z = max(int(z.max()), self._max_z)\n",
        "\n",
        "        return z.to(torch.long)\n",
        "\n",
        "\n",
        "# path = osp.join(osp.dirname(osp.realpath('klasor')), '..', 'data', 'Planetoid')\n",
        "# dataset = Planetoid(path, name='Cora')\n",
        "dataset=ilk\n",
        "\n",
        "train_dataset = SEALDataset(dataset, num_hops=2, split='train')\n",
        "val_dataset = SEALDataset(dataset, num_hops=2, split='val')\n",
        "test_dataset = SEALDataset(dataset, num_hops=2, split='test')\n",
        "\n",
        "train_loader = DataLoader(train_dataset, batch_size=32, shuffle=True)\n",
        "val_loader = DataLoader(val_dataset, batch_size=32)\n",
        "test_loader = DataLoader(test_dataset, batch_size=32)\n",
        "\n",
        "\n",
        "class DGCNN(torch.nn.Module):\n",
        "    def __init__(self, hidden_channels, num_layers, GNN=GCNConv, k=0.6):\n",
        "        super().__init__()\n",
        "\n",
        "        if k < 1:  # Transform percentile to number.\n",
        "            num_nodes = sorted([data.num_nodes for data in train_dataset])\n",
        "            k = num_nodes[int(math.ceil(k * len(num_nodes))) - 1]\n",
        "            k = max(10, k)\n",
        "        self.k = int(k)\n",
        "\n",
        "        self.convs = ModuleList()\n",
        "        self.convs.append(GNN(train_dataset.num_features, hidden_channels))\n",
        "        for i in range(0, num_layers - 1):\n",
        "            self.convs.append(GNN(hidden_channels, hidden_channels))\n",
        "        self.convs.append(GNN(hidden_channels, 1))\n",
        "\n",
        "        conv1d_channels = [16, 32]\n",
        "        total_latent_dim = hidden_channels * num_layers + 1\n",
        "        conv1d_kws = [total_latent_dim, 5]\n",
        "        self.conv1 = Conv1d(1, conv1d_channels[0], conv1d_kws[0],\n",
        "                            conv1d_kws[0])\n",
        "        self.maxpool1d = MaxPool1d(2, 2)\n",
        "        self.conv2 = Conv1d(conv1d_channels[0], conv1d_channels[1],\n",
        "                            conv1d_kws[1], 1)\n",
        "        dense_dim = int((self.k - 2) / 2 + 1)\n",
        "        dense_dim = (dense_dim - conv1d_kws[1] + 1) * conv1d_channels[1]\n",
        "        self.mlp = MLP([dense_dim, 128, 1], dropout=0.5, norm=None)\n",
        "\n",
        "    def save(name):\n",
        "      return 12\n",
        "    def forward(self, x, edge_index, batch):\n",
        "        xs = [x]\n",
        "        for conv in self.convs:\n",
        "            xs += [conv(xs[-1], edge_index).tanh()]\n",
        "        x = torch.cat(xs[1:], dim=-1)\n",
        "\n",
        "        # Global pooling.\n",
        "        x = global_sort_pool(x, batch, self.k)\n",
        "        x = x.unsqueeze(1)  # [num_graphs, 1, k * hidden]\n",
        "        x = self.conv1(x).relu()\n",
        "        x = self.maxpool1d(x)\n",
        "        x = self.conv2(x).relu()\n",
        "        x = x.view(x.size(0), -1)  # [num_graphs, dense_dim]\n",
        "\n",
        "        return self.mlp(x)\n",
        "\n",
        "\n",
        "device = torch.device('cuda' if torch.cuda.is_available() else 'cpu')\n",
        "model = DGCNN(hidden_channels=32, num_layers=3).to(device)\n",
        "optimizer = torch.optim.Adam(params=model.parameters(), lr=0.0001)\n",
        "criterion = BCEWithLogitsLoss()\n",
        "\n",
        "\n",
        "def train():\n",
        "    model.train()\n",
        "\n",
        "    total_loss = 0\n",
        "    for data in train_loader:\n",
        "        data = data.to(device)\n",
        "        optimizer.zero_grad()\n",
        "        out = model(data.x, data.edge_index, data.batch)\n",
        "        loss = criterion(out.view(-1), data.y.to(torch.float))\n",
        "        loss.backward()\n",
        "        optimizer.step()\n",
        "        total_loss += float(loss) * data.num_graphs\n",
        "\n",
        "    return total_loss / len(train_dataset)\n",
        "\n",
        "@torch.no_grad()\n",
        "def test(loader):\n",
        "    model.eval()\n",
        "\n",
        "    y_pred, y_true = [], []\n",
        "    for data in loader:\n",
        "        data = data.to(device)\n",
        "        logits = model(data.x, data.edge_index, data.batch)\n",
        "        y_pred.append(logits.view(-1).cpu())\n",
        "        y_true.append(data.y.view(-1).cpu().to(torch.float))\n",
        "\n",
        "    return roc_auc_score(torch.cat(y_true), torch.cat(y_pred))\n",
        "\n",
        "\n",
        "best_val_auc = test_auc = 0\n",
        "for epoch in range(1, 10):\n",
        "    loss = train()\n",
        "    val_auc = test(val_loader)\n",
        "    if val_auc > best_val_auc:\n",
        "        best_val_auc = val_auc\n",
        "        test_auc = test(test_loader)\n",
        "    print(f'Epoch: {epoch:02d}, Loss: {loss:.4f}, Val: {val_auc:.4f}, '\n",
        "          f'Test: {test_auc:.4f}')\n",
        "# @torch.no_grad()\n",
        "# def test(loader):\n",
        "#     model.eval()\n",
        "\n",
        "#     y_pred, y_true = [], []\n",
        "#     for data in loader:\n",
        "#         data = data.to(device)\n",
        "#         logits = model(data.x, data.edge_index, data.batch)\n",
        "#         y_pred.append(logits.view(-1).cpu())\n",
        "#         # y_true.append(data.y.view(-1).cpu().to(torch.float))\n",
        "#         y_true.append(torch.tensor([0., 1., 0., 0., 0., 0.]))\n",
        "#         # print(y_true)\n",
        "\n",
        "#     # return roc_auc_score(torch.cat(y_true), torch.cat(y_pred))\n",
        "\n",
        "\n",
        "# best_val_auc = test_auc = 0\n",
        "# for epoch in range(1, 51):\n",
        "#     loss = train()\n",
        "#     val_auc = test(val_loader)\n",
        "#     if val_auc > best_val_auc:\n",
        "#         best_val_auc = val_auc\n",
        "#         test_auc = test(test_loader)\n",
        "#     print(f'Epoch: {epoch:02d}, Loss: {loss:.4f}, Val: {val_auc:.4f}, '\n",
        "#            f'Test: {test_auc:.4f}')"
      ],
      "metadata": {
        "colab": {
          "base_uri": "https://localhost:8080/"
        },
        "id": "oQ1QQ-IzwOA8",
        "outputId": "1e2d15b1-ea9b-4582-8aad-5a8fc101e1bf"
      },
      "execution_count": null,
      "outputs": [
        {
          "output_type": "stream",
          "name": "stderr",
          "text": [
            "Processing...\n",
            "Done!\n",
            "/usr/local/lib/python3.8/dist-packages/torch_geometric/deprecation.py:12: UserWarning: 'nn.glob.global_sort_pool' is deprecated, use 'nn.aggr.SortAggr' instead\n",
            "  warnings.warn(out)\n",
            "/usr/local/lib/python3.8/dist-packages/torch_geometric/deprecation.py:12: UserWarning: 'nn.glob.global_sort_pool' is deprecated, use 'nn.aggr.SortAggr' instead\n",
            "  warnings.warn(out)\n"
          ]
        },
        {
          "output_type": "stream",
          "name": "stdout",
          "text": [
            "Epoch: 01, Loss: 0.6633, Val: 0.7812, Test: 0.7875\n"
          ]
        },
        {
          "output_type": "stream",
          "name": "stderr",
          "text": [
            "/usr/local/lib/python3.8/dist-packages/torch_geometric/deprecation.py:12: UserWarning: 'nn.glob.global_sort_pool' is deprecated, use 'nn.aggr.SortAggr' instead\n",
            "  warnings.warn(out)\n",
            "/usr/local/lib/python3.8/dist-packages/torch_geometric/deprecation.py:12: UserWarning: 'nn.glob.global_sort_pool' is deprecated, use 'nn.aggr.SortAggr' instead\n",
            "  warnings.warn(out)\n"
          ]
        },
        {
          "output_type": "stream",
          "name": "stdout",
          "text": [
            "Epoch: 02, Loss: 0.5300, Val: 0.8221, Test: 0.8430\n"
          ]
        },
        {
          "output_type": "stream",
          "name": "stderr",
          "text": [
            "/usr/local/lib/python3.8/dist-packages/torch_geometric/deprecation.py:12: UserWarning: 'nn.glob.global_sort_pool' is deprecated, use 'nn.aggr.SortAggr' instead\n",
            "  warnings.warn(out)\n",
            "/usr/local/lib/python3.8/dist-packages/torch_geometric/deprecation.py:12: UserWarning: 'nn.glob.global_sort_pool' is deprecated, use 'nn.aggr.SortAggr' instead\n",
            "  warnings.warn(out)\n"
          ]
        },
        {
          "output_type": "stream",
          "name": "stdout",
          "text": [
            "Epoch: 03, Loss: 0.4899, Val: 0.8379, Test: 0.8522\n"
          ]
        },
        {
          "output_type": "stream",
          "name": "stderr",
          "text": [
            "/usr/local/lib/python3.8/dist-packages/torch_geometric/deprecation.py:12: UserWarning: 'nn.glob.global_sort_pool' is deprecated, use 'nn.aggr.SortAggr' instead\n",
            "  warnings.warn(out)\n",
            "/usr/local/lib/python3.8/dist-packages/torch_geometric/deprecation.py:12: UserWarning: 'nn.glob.global_sort_pool' is deprecated, use 'nn.aggr.SortAggr' instead\n",
            "  warnings.warn(out)\n"
          ]
        },
        {
          "output_type": "stream",
          "name": "stdout",
          "text": [
            "Epoch: 04, Loss: 0.4801, Val: 0.8420, Test: 0.8542\n"
          ]
        },
        {
          "output_type": "stream",
          "name": "stderr",
          "text": [
            "/usr/local/lib/python3.8/dist-packages/torch_geometric/deprecation.py:12: UserWarning: 'nn.glob.global_sort_pool' is deprecated, use 'nn.aggr.SortAggr' instead\n",
            "  warnings.warn(out)\n",
            "/usr/local/lib/python3.8/dist-packages/torch_geometric/deprecation.py:12: UserWarning: 'nn.glob.global_sort_pool' is deprecated, use 'nn.aggr.SortAggr' instead\n",
            "  warnings.warn(out)\n"
          ]
        },
        {
          "output_type": "stream",
          "name": "stdout",
          "text": [
            "Epoch: 05, Loss: 0.4705, Val: 0.8460, Test: 0.8540\n"
          ]
        },
        {
          "output_type": "stream",
          "name": "stderr",
          "text": [
            "/usr/local/lib/python3.8/dist-packages/torch_geometric/deprecation.py:12: UserWarning: 'nn.glob.global_sort_pool' is deprecated, use 'nn.aggr.SortAggr' instead\n",
            "  warnings.warn(out)\n",
            "/usr/local/lib/python3.8/dist-packages/torch_geometric/deprecation.py:12: UserWarning: 'nn.glob.global_sort_pool' is deprecated, use 'nn.aggr.SortAggr' instead\n",
            "  warnings.warn(out)\n"
          ]
        },
        {
          "output_type": "stream",
          "name": "stdout",
          "text": [
            "Epoch: 06, Loss: 0.4632, Val: 0.8480, Test: 0.8650\n"
          ]
        },
        {
          "output_type": "stream",
          "name": "stderr",
          "text": [
            "/usr/local/lib/python3.8/dist-packages/torch_geometric/deprecation.py:12: UserWarning: 'nn.glob.global_sort_pool' is deprecated, use 'nn.aggr.SortAggr' instead\n",
            "  warnings.warn(out)\n",
            "/usr/local/lib/python3.8/dist-packages/torch_geometric/deprecation.py:12: UserWarning: 'nn.glob.global_sort_pool' is deprecated, use 'nn.aggr.SortAggr' instead\n",
            "  warnings.warn(out)\n"
          ]
        },
        {
          "output_type": "stream",
          "name": "stdout",
          "text": [
            "Epoch: 07, Loss: 0.4563, Val: 0.8514, Test: 0.8689\n"
          ]
        },
        {
          "output_type": "stream",
          "name": "stderr",
          "text": [
            "/usr/local/lib/python3.8/dist-packages/torch_geometric/deprecation.py:12: UserWarning: 'nn.glob.global_sort_pool' is deprecated, use 'nn.aggr.SortAggr' instead\n",
            "  warnings.warn(out)\n",
            "/usr/local/lib/python3.8/dist-packages/torch_geometric/deprecation.py:12: UserWarning: 'nn.glob.global_sort_pool' is deprecated, use 'nn.aggr.SortAggr' instead\n",
            "  warnings.warn(out)\n"
          ]
        },
        {
          "output_type": "stream",
          "name": "stdout",
          "text": [
            "Epoch: 08, Loss: 0.4474, Val: 0.8589, Test: 0.8748\n"
          ]
        },
        {
          "output_type": "stream",
          "name": "stderr",
          "text": [
            "/usr/local/lib/python3.8/dist-packages/torch_geometric/deprecation.py:12: UserWarning: 'nn.glob.global_sort_pool' is deprecated, use 'nn.aggr.SortAggr' instead\n",
            "  warnings.warn(out)\n",
            "/usr/local/lib/python3.8/dist-packages/torch_geometric/deprecation.py:12: UserWarning: 'nn.glob.global_sort_pool' is deprecated, use 'nn.aggr.SortAggr' instead\n",
            "  warnings.warn(out)\n"
          ]
        },
        {
          "output_type": "stream",
          "name": "stdout",
          "text": [
            "Epoch: 09, Loss: 0.4373, Val: 0.8712, Test: 0.8809\n"
          ]
        }
      ]
    },
    {
      "cell_type": "code",
      "source": [
        "# model.x\n"
      ],
      "metadata": {
        "id": "3pBT1zdSiegW"
      },
      "execution_count": null,
      "outputs": []
    },
    {
      "cell_type": "code",
      "source": [
        "# from stellargraph.layer import GCN\n",
        "# x_inp, x_out = gcn.in_out_tensors()"
      ],
      "metadata": {
        "id": "6CYiUPg_prV5"
      },
      "execution_count": null,
      "outputs": []
    },
    {
      "cell_type": "code",
      "source": [
        "# from tensorflow.keras import layers, optimizers, losses, metrics, Model\n",
        "# embedding_model = Model(inputs=x_inp, outputs=x_out)\n",
        "# emb = embedding_model.predict(all_gen)\n",
        "# emb.shape"
      ],
      "metadata": {
        "id": "MfCCRG5ynstf"
      },
      "execution_count": null,
      "outputs": []
    },
    {
      "cell_type": "code",
      "source": [
        "# from stellargraph.data.edge_splitter import StellarGraph\n",
        "# ilk=(StellarGraph) ilk"
      ],
      "metadata": {
        "id": "k3zFW7-jokw7"
      },
      "execution_count": null,
      "outputs": []
    },
    {
      "cell_type": "code",
      "source": [
        "# from stellargraph.mapper import FullBatchNodeGenerator\n",
        "# from stellargraph.layer import GCN\n",
        "# generator = FullBatchNodeGenerator(ilk, method=\"gcn\")"
      ],
      "metadata": {
        "id": "-4uMc8dQn-rY"
      },
      "execution_count": null,
      "outputs": []
    },
    {
      "cell_type": "code",
      "source": [
        "# model.save('hs')"
      ],
      "metadata": {
        "id": "-DnAYyXZxKEB"
      },
      "execution_count": null,
      "outputs": []
    },
    {
      "cell_type": "code",
      "source": [
        "edge_label_index=train_data.pos_edge_label_index\n",
        "\n",
        "for src, dst in edge_label_index.t().tolist():\n",
        "            sub_nodes, sub_edge_index, mapping, _ = k_hop_subgraph(\n",
        "                [src, dst], 2, edge_index, relabel_nodes=True)\n",
        "            src, dst = mapping.tolist()\n",
        "sub_nodes"
      ],
      "metadata": {
        "colab": {
          "base_uri": "https://localhost:8080/"
        },
        "id": "RTP8hhjtE3wh",
        "outputId": "aebf3e2c-4649-4070-e31b-ba63072f2f90"
      },
      "execution_count": null,
      "outputs": [
        {
          "output_type": "execute_result",
          "data": {
            "text/plain": [
              "tensor([4, 5, 6])"
            ]
          },
          "metadata": {},
          "execution_count": 108
        }
      ]
    },
    {
      "cell_type": "code",
      "source": [
        "train_mask = torch.tensor([True] * round(ilk.edge_index.unique().size(0) * 0.8) +\n",
        "                          [False]* (ilk.edge_index.unique().size(0) - round(ilk.edge_index.unique().size(0) * 0.8)))\n",
        "test_mask = torch.tensor([False] * round(ilk.edge_index.unique().size(0) * 0.8) +\n",
        "                         [True]* (round(ilk.edge_index.unique().size(0) * 0.1)) +\n",
        "                         [False]* (ilk.edge_index.unique().size(0) - round(ilk.edge_index.unique().size(0) * 0.8)\n",
        "                                   - round(ilk.edge_index.unique().size(0) * 0.1)))\n",
        "val_mask = torch.tensor([False] * round(ilk.edge_index.unique().size(0) * 0.8) +\n",
        "                        [False]* (round(ilk.edge_index.unique().size(0) * 0.1)) +\n",
        "                        [True]* (ilk.edge_index.unique().size(0) - round(ilk.edge_index.unique().size(0) * 0.8)\n",
        "                                 - round(ilk.edge_index.unique().size(0) * 0.1)))"
      ],
      "metadata": {
        "id": "9nmafuNwdxis"
      },
      "execution_count": null,
      "outputs": []
    },
    {
      "cell_type": "code",
      "source": [
        "ilk.train_mask=train_mask\n",
        "ilk.test_mask=test_mask\n",
        "ilk.val_mask=val_mask"
      ],
      "metadata": {
        "id": "EshxhvfDerds"
      },
      "execution_count": null,
      "outputs": []
    },
    {
      "cell_type": "code",
      "source": [
        "ilk"
      ],
      "metadata": {
        "colab": {
          "base_uri": "https://localhost:8080/"
        },
        "id": "JAsN07nWfIYo",
        "outputId": "4f2ef2d0-20f1-4ea8-9470-c4edb478de0d"
      },
      "execution_count": null,
      "outputs": [
        {
          "output_type": "execute_result",
          "data": {
            "text/plain": [
              "Data(x=[1505, 1505], edge_index=[2, 4002], train_mask=[1505], test_mask=[1505], val_mask=[1505])"
            ]
          },
          "metadata": {},
          "execution_count": 39
        }
      ]
    },
    {
      "cell_type": "code",
      "source": [
        "# ilk.x[[4,5,6]]"
      ],
      "metadata": {
        "id": "oq9yUsDPGE54"
      },
      "execution_count": null,
      "outputs": []
    },
    {
      "cell_type": "code",
      "source": [
        "# for src, dst in edge_label_index.t().tolist():\n",
        "#             # sub_nodes, sub_edge_index, mapping, _ = k_hop_subgraph(\n",
        "#             #     [src, dst],num_hops, edge_index, relabel_nodes=True)\n",
        "#             src, dst = mapping.tolist()"
      ],
      "metadata": {
        "id": "7gRUjFuXy8o-"
      },
      "execution_count": null,
      "outputs": []
    },
    {
      "cell_type": "code",
      "source": [
        "data=ilk\n",
        "transform = RandomLinkSplit(num_val=0.05, num_test=0.1,\n",
        "                                    is_undirected=True, split_labels=True)\n",
        "train_data, val_data, test_data = transform(data)\n",
        "edge_label_index=train_data.pos_edge_label_index"
      ],
      "metadata": {
        "id": "5w3wKy4SzV-T"
      },
      "execution_count": null,
      "outputs": []
    },
    {
      "cell_type": "code",
      "source": [
        " train_data.edge_index"
      ],
      "metadata": {
        "colab": {
          "base_uri": "https://localhost:8080/"
        },
        "id": "4I6LSIG2_idN",
        "outputId": "9d01f3ea-3622-4219-911e-3420e849de38"
      },
      "execution_count": null,
      "outputs": [
        {
          "output_type": "execute_result",
          "data": {
            "text/plain": [
              "tensor([[ 0,  3, 11,  6,  9,  3,  2,  5, 13,  1,  7,  8,  2,  0,  4, 12,  6, 11,\n",
              "          7, 10, 13,  3,  6, 14,  1,  8,  9,  2,  5,  4],\n",
              "        [12,  6, 11,  7, 10, 13,  3,  6, 14,  1,  8,  9,  2,  5,  4,  0,  3, 11,\n",
              "          6,  9,  3,  2,  5, 13,  1,  7,  8,  2,  0,  4]])"
            ]
          },
          "metadata": {},
          "execution_count": 93
        }
      ]
    },
    {
      "cell_type": "code",
      "source": [
        "val_data.pos_edge_label_index"
      ],
      "metadata": {
        "colab": {
          "base_uri": "https://localhost:8080/"
        },
        "id": "eCF2BMIhAl-g",
        "outputId": "9182680f-64de-4b76-8e3b-61a0e67854d5"
      },
      "execution_count": null,
      "outputs": [
        {
          "output_type": "execute_result",
          "data": {
            "text/plain": [
              "tensor([], size=(2, 0), dtype=torch.int64)"
            ]
          },
          "metadata": {},
          "execution_count": 96
        }
      ]
    },
    {
      "cell_type": "code",
      "source": [
        "src, dst = (dst, src) if src > dst else (src, dst)\n",
        "adj = to_scipy_sparse_matrix(edge_index, num_nodes=22).tocsr()\n",
        "\n",
        "idx = list(range(src)) + list(range(src + 1, adj.shape[0]))\n",
        "adj_wo_src = adj[idx, :][:, idx]\n",
        "\n",
        "idx = list(range(dst)) + list(range(dst + 1, adj.shape[0]))\n",
        "adj_wo_dst = adj[idx, :][:, idx]\n",
        "\n",
        "dist2src = shortest_path(adj_wo_dst, directed=False, unweighted=True,\n",
        "                                 indices=src)"
      ],
      "metadata": {
        "id": "fdr541dPySpa"
      },
      "execution_count": null,
      "outputs": []
    },
    {
      "cell_type": "code",
      "source": [
        "src"
      ],
      "metadata": {
        "colab": {
          "base_uri": "https://localhost:8080/"
        },
        "id": "58VlhYdp0okb",
        "outputId": "d3a791e0-1d63-4223-9c18-20d462942221"
      },
      "execution_count": null,
      "outputs": [
        {
          "output_type": "execute_result",
          "data": {
            "text/plain": [
              "0"
            ]
          },
          "metadata": {},
          "execution_count": 77
        }
      ]
    },
    {
      "cell_type": "code",
      "source": [
        "y_true"
      ],
      "metadata": {
        "colab": {
          "base_uri": "https://localhost:8080/",
          "height": 165
        },
        "id": "hyxjghbD3Oaj",
        "outputId": "1c66bd5c-60ef-4956-9a2c-25fb0fa1cdb5"
      },
      "execution_count": null,
      "outputs": [
        {
          "output_type": "error",
          "ename": "NameError",
          "evalue": "ignored",
          "traceback": [
            "\u001b[0;31m---------------------------------------------------------------------------\u001b[0m",
            "\u001b[0;31mNameError\u001b[0m                                 Traceback (most recent call last)",
            "\u001b[0;32m<ipython-input-50-eefb97cbe0ef>\u001b[0m in \u001b[0;36m<module>\u001b[0;34m\u001b[0m\n\u001b[0;32m----> 1\u001b[0;31m \u001b[0my_true\u001b[0m\u001b[0;34m\u001b[0m\u001b[0;34m\u001b[0m\u001b[0m\n\u001b[0m",
            "\u001b[0;31mNameError\u001b[0m: name 'y_true' is not defined"
          ]
        }
      ]
    },
    {
      "cell_type": "code",
      "source": [
        "# import os.path as osp\n",
        "# from torch_geometric.datasets import Planetoid\n",
        "# path = osp.join(osp.dirname(osp.realpath('klasor')), '..', 'data', 'Planetoid')\n",
        "# dataset = Planetoid(path, name='Cora')\n",
        "# dataset[0].y"
      ],
      "metadata": {
        "id": "AC54W9j16JVF"
      },
      "execution_count": null,
      "outputs": []
    },
    {
      "cell_type": "code",
      "source": [
        "#  transform = RandomLinkSplit(num_val=0.05, num_test=0.1,\n",
        "#                                     is_undirected=True, split_labels=True)\n",
        "# train_data, val_data, test_data = transform(dataset[0])"
      ],
      "metadata": {
        "id": "_Jd8ATlT2wBx"
      },
      "execution_count": null,
      "outputs": []
    },
    {
      "cell_type": "code",
      "source": [
        "# val_data1.neg_edge_label_index"
      ],
      "metadata": {
        "id": "hJOaXz34orhe"
      },
      "execution_count": null,
      "outputs": []
    },
    {
      "cell_type": "code",
      "source": [
        "# train_data1, val_data1, test_data1 = transform(yenidata)"
      ],
      "metadata": {
        "id": "9g7Hk6XI57l5"
      },
      "execution_count": null,
      "outputs": []
    },
    {
      "cell_type": "code",
      "source": [
        "val_data1['neg_edge_label_index']"
      ],
      "metadata": {
        "colab": {
          "base_uri": "https://localhost:8080/"
        },
        "id": "zzWpYaDGo11U",
        "outputId": "354369ef-6b26-447e-d5f2-a7be253acb8f"
      },
      "execution_count": null,
      "outputs": [
        {
          "output_type": "execute_result",
          "data": {
            "text/plain": [
              "tensor([[ 2,  4,  4,  1, 10,  3],\n",
              "        [ 6,  5,  1,  0,  5,  4]])"
            ]
          },
          "metadata": {},
          "execution_count": 34
        }
      ]
    },
    {
      "cell_type": "code",
      "source": [
        "yenidata=Data()"
      ],
      "metadata": {
        "id": "2Zp04wjf3K6h"
      },
      "execution_count": null,
      "outputs": []
    },
    {
      "cell_type": "code",
      "source": [
        "# yenidata.x=torch.tensor([\n",
        "#     [0.,0.,0.,0.,0.,1.,0.,0.,0.,0.,0.],\n",
        "#     [0.,0.,1.,1.,0.,0.,0.,0.,0.,0.,1.],\n",
        "#     [0.,1.,0.,1.,1.,1.,0.,0.,0.,0.,0.],\n",
        "#     [0.,1.,1.,0.,0.,0.,0.,0.,0.,0.,1.],\n",
        "#      [0.,0.,1.,0.,0.,0.,1.,1.,0.,0.,0.],\n",
        "#       [1.,0.,1.,0.,0.,0.,0.,0.,0.,0.,0.],\n",
        "#        [0.,0.,0.,0.,1.,0.,0.,1.,0.,0.,0.],\n",
        "#         [0.,0.,0.,0.,1.,0.,1.,0.,0.,0.,0.],\n",
        "#          [0.,0.,0.,0.,0.,0.,0.,0.,0.,0.,0.],\n",
        "#           [0.,0.,0.,0.,0.,0.,0.,0.,0.,0.,0.],\n",
        "#            [0.,1.,0.,1.,0.,0.,0.,0.,0.,0.,0.],\n",
        "# ])"
      ],
      "metadata": {
        "id": "zJdh-Mzp3QBi"
      },
      "execution_count": null,
      "outputs": []
    },
    {
      "cell_type": "code",
      "source": [
        "# yenidata.edge_index=torch.tensor([\n",
        "#     [6,4,4,4,0,1,1,1,2,2,3],\n",
        "#     [7,7,2,6,5,2,3,10,5,3,10]\n",
        "# ])"
      ],
      "metadata": {
        "id": "7QX2_2Qg4j6q"
      },
      "execution_count": null,
      "outputs": []
    },
    {
      "cell_type": "code",
      "source": [
        "yenidata.y=torch.tensor([3,0,9,8,7,5,6,4,10,2,1])"
      ],
      "metadata": {
        "id": "4V4-kdJQ5G0o"
      },
      "execution_count": null,
      "outputs": []
    },
    {
      "cell_type": "code",
      "source": [
        "yenidata.train_mask=torch.tensor([True,True,False,False,False,True,True,False,False,False,True])"
      ],
      "metadata": {
        "id": "jVAdHMAU5J-9"
      },
      "execution_count": null,
      "outputs": []
    },
    {
      "cell_type": "code",
      "source": [
        "yenidata.val_mask=torch.tensor([False,False,True,True,False,False,False,True,True,False,False])"
      ],
      "metadata": {
        "id": "bWU3f-ur5Ukf"
      },
      "execution_count": null,
      "outputs": []
    },
    {
      "cell_type": "code",
      "source": [
        "yenidata.test_mask=torch.tensor([False,False,False,False,True,False,False,False,False,True,False])"
      ],
      "metadata": {
        "id": "39YiquMz5nA-"
      },
      "execution_count": null,
      "outputs": []
    },
    {
      "cell_type": "code",
      "source": [
        "ilk.train_mask=torch.tensor([True,True,False,False,False,True,True,False,False,False,True,True,True,False,False,False,True,True,False,False,False,True])"
      ],
      "metadata": {
        "id": "-aYC3VGZwi_5"
      },
      "execution_count": null,
      "outputs": []
    },
    {
      "cell_type": "code",
      "source": [
        "ilk.test_mask=torch.tensor([False,False,False,False,True,False,False,False,False,True,False,False,False,False,False,True,False,False,False,False,True,False])"
      ],
      "metadata": {
        "id": "hB7pd0CGwjHE"
      },
      "execution_count": null,
      "outputs": []
    },
    {
      "cell_type": "code",
      "source": [
        "ilk.val_mask=torch.tensor([False,False,True,True,False,False,False,True,True,False,False,False,False,True,True,False,False,False,True,True,False,False])"
      ],
      "metadata": {
        "id": "Vqm1iBT5wjaK"
      },
      "execution_count": null,
      "outputs": []
    },
    {
      "cell_type": "code",
      "source": [
        "len(ilk.train_mask)"
      ],
      "metadata": {
        "colab": {
          "base_uri": "https://localhost:8080/"
        },
        "id": "2-Lbv_6hB2rD",
        "outputId": "375df73e-dfba-485b-9595-aa75f8318178"
      },
      "execution_count": null,
      "outputs": [
        {
          "output_type": "execute_result",
          "data": {
            "text/plain": [
              "22"
            ]
          },
          "metadata": {},
          "execution_count": 42
        }
      ]
    },
    {
      "cell_type": "code",
      "source": [
        "ilk.y=torch.tensor([3,3,4,5,6,1,7,8,8,6,5,14,12,19,7,6,3,11,6,9,0,0])"
      ],
      "metadata": {
        "id": "JnJyG0N0wAe9"
      },
      "execution_count": null,
      "outputs": []
    },
    {
      "cell_type": "code",
      "source": [
        "yaz2=torch.tensor(list(sou[0]))\n",
        "yaz3=torch.tensor(list(tar[0]))\n",
        "cikis=[]\n",
        "cikis.append(yaz2)\n",
        "cikis.append(yaz3)\n",
        "result = torch.cat(cikis)\n",
        "edgeindex2=result.reshape(2,4002)\n",
        "ilk.edge_index=edgeindex2\n",
        "ilk.edge_index\n",
        "# len(result)"
      ],
      "metadata": {
        "id": "LVEQNUVjwjwJ",
        "colab": {
          "base_uri": "https://localhost:8080/"
        },
        "outputId": "4139f369-5813-4fab-c998-15e0c67718f9"
      },
      "execution_count": null,
      "outputs": [
        {
          "output_type": "execute_result",
          "data": {
            "text/plain": [
              "tensor([[   0,    0,    1,  ...,  926,  470,  472],\n",
              "        [   0,    1,    2,  ..., 1504, 1504, 1504]])"
            ]
          },
          "metadata": {},
          "execution_count": 10
        }
      ]
    },
    {
      "cell_type": "code",
      "source": [
        "sou=pd.factorize(sortar['source'])\n",
        "tar=pd.factorize(sortar['target'])\n",
        "sou[0]"
      ],
      "metadata": {
        "id": "y_phAaamwkWi",
        "colab": {
          "base_uri": "https://localhost:8080/"
        },
        "outputId": "31631ff6-f47a-4578-e8e4-b2c41e472795"
      },
      "execution_count": null,
      "outputs": [
        {
          "output_type": "execute_result",
          "data": {
            "text/plain": [
              "array([  0,   0,   1, ..., 926, 470, 472])"
            ]
          },
          "metadata": {},
          "execution_count": 9
        }
      ]
    },
    {
      "cell_type": "code",
      "source": [
        "edgeindex2"
      ],
      "metadata": {
        "colab": {
          "base_uri": "https://localhost:8080/",
          "height": 165
        },
        "id": "I5wV0ZOZCvxQ",
        "outputId": "0bb82c93-2283-4d74-b017-e68237cae423"
      },
      "execution_count": null,
      "outputs": [
        {
          "output_type": "error",
          "ename": "NameError",
          "evalue": "ignored",
          "traceback": [
            "\u001b[0;31m---------------------------------------------------------------------------\u001b[0m",
            "\u001b[0;31mNameError\u001b[0m                                 Traceback (most recent call last)",
            "\u001b[0;32m<ipython-input-29-94da9c81557d>\u001b[0m in \u001b[0;36m<module>\u001b[0;34m\u001b[0m\n\u001b[0;32m----> 1\u001b[0;31m \u001b[0medgeindex2\u001b[0m\u001b[0;34m\u001b[0m\u001b[0;34m\u001b[0m\u001b[0m\n\u001b[0m",
            "\u001b[0;31mNameError\u001b[0m: name 'edgeindex2' is not defined"
          ]
        }
      ]
    },
    {
      "cell_type": "code",
      "source": [
        "import pandas as pd\n",
        "sortar= pd.read_csv(\n",
        "    \"source_target.tsv\",\n",
        "     sep=\"\\t\"\n",
        "\n",
        ")\n",
        "# nodes.drop['relation']\n",
        "sortar"
      ],
      "metadata": {
        "colab": {
          "base_uri": "https://localhost:8080/",
          "height": 424
        },
        "id": "ZPu57k-6tnNM",
        "outputId": "04564d54-65b1-4262-83f0-4bac14ef484a"
      },
      "execution_count": null,
      "outputs": [
        {
          "output_type": "execute_result",
          "data": {
            "text/plain": [
              "                      source                                          target\n",
              "0                     ANKFN1                          Essential hypertension\n",
              "1                     ANKFN1                             hydrochlorothiazide\n",
              "2                    MIR2053                                       mucositis\n",
              "3                    MIR2053                                   Drug Toxicity\n",
              "4                    MIR2053  Precursor Cell Lymphoblastic Leukemia-Lymphoma\n",
              "...                      ...                                             ...\n",
              "3997                imatinib                                       rs7311358\n",
              "3998         Transplantation                                       rs7311358\n",
              "3999       mycophenolic acid                                       rs7311358\n",
              "4000  Kidney Transplantation                                       rs7311358\n",
              "4001    transplant rejection                                       rs7311358\n",
              "\n",
              "[4002 rows x 2 columns]"
            ],
            "text/html": [
              "\n",
              "  <div id=\"df-4e1817e4-243e-4176-85fa-671a18024ec1\">\n",
              "    <div class=\"colab-df-container\">\n",
              "      <div>\n",
              "<style scoped>\n",
              "    .dataframe tbody tr th:only-of-type {\n",
              "        vertical-align: middle;\n",
              "    }\n",
              "\n",
              "    .dataframe tbody tr th {\n",
              "        vertical-align: top;\n",
              "    }\n",
              "\n",
              "    .dataframe thead th {\n",
              "        text-align: right;\n",
              "    }\n",
              "</style>\n",
              "<table border=\"1\" class=\"dataframe\">\n",
              "  <thead>\n",
              "    <tr style=\"text-align: right;\">\n",
              "      <th></th>\n",
              "      <th>source</th>\n",
              "      <th>target</th>\n",
              "    </tr>\n",
              "  </thead>\n",
              "  <tbody>\n",
              "    <tr>\n",
              "      <th>0</th>\n",
              "      <td>ANKFN1</td>\n",
              "      <td>Essential hypertension</td>\n",
              "    </tr>\n",
              "    <tr>\n",
              "      <th>1</th>\n",
              "      <td>ANKFN1</td>\n",
              "      <td>hydrochlorothiazide</td>\n",
              "    </tr>\n",
              "    <tr>\n",
              "      <th>2</th>\n",
              "      <td>MIR2053</td>\n",
              "      <td>mucositis</td>\n",
              "    </tr>\n",
              "    <tr>\n",
              "      <th>3</th>\n",
              "      <td>MIR2053</td>\n",
              "      <td>Drug Toxicity</td>\n",
              "    </tr>\n",
              "    <tr>\n",
              "      <th>4</th>\n",
              "      <td>MIR2053</td>\n",
              "      <td>Precursor Cell Lymphoblastic Leukemia-Lymphoma</td>\n",
              "    </tr>\n",
              "    <tr>\n",
              "      <th>...</th>\n",
              "      <td>...</td>\n",
              "      <td>...</td>\n",
              "    </tr>\n",
              "    <tr>\n",
              "      <th>3997</th>\n",
              "      <td>imatinib</td>\n",
              "      <td>rs7311358</td>\n",
              "    </tr>\n",
              "    <tr>\n",
              "      <th>3998</th>\n",
              "      <td>Transplantation</td>\n",
              "      <td>rs7311358</td>\n",
              "    </tr>\n",
              "    <tr>\n",
              "      <th>3999</th>\n",
              "      <td>mycophenolic acid</td>\n",
              "      <td>rs7311358</td>\n",
              "    </tr>\n",
              "    <tr>\n",
              "      <th>4000</th>\n",
              "      <td>Kidney Transplantation</td>\n",
              "      <td>rs7311358</td>\n",
              "    </tr>\n",
              "    <tr>\n",
              "      <th>4001</th>\n",
              "      <td>transplant rejection</td>\n",
              "      <td>rs7311358</td>\n",
              "    </tr>\n",
              "  </tbody>\n",
              "</table>\n",
              "<p>4002 rows × 2 columns</p>\n",
              "</div>\n",
              "      <button class=\"colab-df-convert\" onclick=\"convertToInteractive('df-4e1817e4-243e-4176-85fa-671a18024ec1')\"\n",
              "              title=\"Convert this dataframe to an interactive table.\"\n",
              "              style=\"display:none;\">\n",
              "        \n",
              "  <svg xmlns=\"http://www.w3.org/2000/svg\" height=\"24px\"viewBox=\"0 0 24 24\"\n",
              "       width=\"24px\">\n",
              "    <path d=\"M0 0h24v24H0V0z\" fill=\"none\"/>\n",
              "    <path d=\"M18.56 5.44l.94 2.06.94-2.06 2.06-.94-2.06-.94-.94-2.06-.94 2.06-2.06.94zm-11 1L8.5 8.5l.94-2.06 2.06-.94-2.06-.94L8.5 2.5l-.94 2.06-2.06.94zm10 10l.94 2.06.94-2.06 2.06-.94-2.06-.94-.94-2.06-.94 2.06-2.06.94z\"/><path d=\"M17.41 7.96l-1.37-1.37c-.4-.4-.92-.59-1.43-.59-.52 0-1.04.2-1.43.59L10.3 9.45l-7.72 7.72c-.78.78-.78 2.05 0 2.83L4 21.41c.39.39.9.59 1.41.59.51 0 1.02-.2 1.41-.59l7.78-7.78 2.81-2.81c.8-.78.8-2.07 0-2.86zM5.41 20L4 18.59l7.72-7.72 1.47 1.35L5.41 20z\"/>\n",
              "  </svg>\n",
              "      </button>\n",
              "      \n",
              "  <style>\n",
              "    .colab-df-container {\n",
              "      display:flex;\n",
              "      flex-wrap:wrap;\n",
              "      gap: 12px;\n",
              "    }\n",
              "\n",
              "    .colab-df-convert {\n",
              "      background-color: #E8F0FE;\n",
              "      border: none;\n",
              "      border-radius: 50%;\n",
              "      cursor: pointer;\n",
              "      display: none;\n",
              "      fill: #1967D2;\n",
              "      height: 32px;\n",
              "      padding: 0 0 0 0;\n",
              "      width: 32px;\n",
              "    }\n",
              "\n",
              "    .colab-df-convert:hover {\n",
              "      background-color: #E2EBFA;\n",
              "      box-shadow: 0px 1px 2px rgba(60, 64, 67, 0.3), 0px 1px 3px 1px rgba(60, 64, 67, 0.15);\n",
              "      fill: #174EA6;\n",
              "    }\n",
              "\n",
              "    [theme=dark] .colab-df-convert {\n",
              "      background-color: #3B4455;\n",
              "      fill: #D2E3FC;\n",
              "    }\n",
              "\n",
              "    [theme=dark] .colab-df-convert:hover {\n",
              "      background-color: #434B5C;\n",
              "      box-shadow: 0px 1px 3px 1px rgba(0, 0, 0, 0.15);\n",
              "      filter: drop-shadow(0px 1px 2px rgba(0, 0, 0, 0.3));\n",
              "      fill: #FFFFFF;\n",
              "    }\n",
              "  </style>\n",
              "\n",
              "      <script>\n",
              "        const buttonEl =\n",
              "          document.querySelector('#df-4e1817e4-243e-4176-85fa-671a18024ec1 button.colab-df-convert');\n",
              "        buttonEl.style.display =\n",
              "          google.colab.kernel.accessAllowed ? 'block' : 'none';\n",
              "\n",
              "        async function convertToInteractive(key) {\n",
              "          const element = document.querySelector('#df-4e1817e4-243e-4176-85fa-671a18024ec1');\n",
              "          const dataTable =\n",
              "            await google.colab.kernel.invokeFunction('convertToInteractive',\n",
              "                                                     [key], {});\n",
              "          if (!dataTable) return;\n",
              "\n",
              "          const docLinkHtml = 'Like what you see? Visit the ' +\n",
              "            '<a target=\"_blank\" href=https://colab.research.google.com/notebooks/data_table.ipynb>data table notebook</a>'\n",
              "            + ' to learn more about interactive tables.';\n",
              "          element.innerHTML = '';\n",
              "          dataTable['output_type'] = 'display_data';\n",
              "          await google.colab.output.renderOutput(dataTable, element);\n",
              "          const docLink = document.createElement('div');\n",
              "          docLink.innerHTML = docLinkHtml;\n",
              "          element.appendChild(docLink);\n",
              "        }\n",
              "      </script>\n",
              "    </div>\n",
              "  </div>\n",
              "  "
            ]
          },
          "metadata": {},
          "execution_count": 1
        }
      ]
    },
    {
      "cell_type": "code",
      "source": [
        "# import pandas as pd\n",
        "\n",
        "# nodes= pd.read_csv(\n",
        "#     \"nodes2.tsv\",\n",
        "#      sep=\"\\t\"\n",
        "\n",
        "# )\n",
        "# # nodes.drop['relation']\n",
        "# nodes"
      ],
      "metadata": {
        "id": "oF8YGUi3wkiT"
      },
      "execution_count": null,
      "outputs": []
    },
    {
      "cell_type": "code",
      "source": [
        "col='target'\n",
        "sortar[col] = sortar[col].astype('category')\n",
        "print(sortar.dtypes)"
      ],
      "metadata": {
        "colab": {
          "base_uri": "https://localhost:8080/"
        },
        "id": "kaEu65mBwoNK",
        "outputId": "9a332139-0f2d-434c-eac5-9e33232049b7"
      },
      "execution_count": null,
      "outputs": [
        {
          "output_type": "stream",
          "name": "stdout",
          "text": [
            "source      object\n",
            "target    category\n",
            "dtype: object\n"
          ]
        }
      ]
    },
    {
      "cell_type": "code",
      "source": [
        "nodes2 = pd.get_dummies(data=sortar,columns=['target'])\n",
        "print(nodes2)"
      ],
      "metadata": {
        "colab": {
          "base_uri": "https://localhost:8080/"
        },
        "id": "0zxmyeq0wqfs",
        "outputId": "c3de61ef-f888-416e-c890-ddbe80bbdc55"
      },
      "execution_count": null,
      "outputs": [
        {
          "output_type": "stream",
          "name": "stdout",
          "text": [
            "                      source  target_(S)-methadone  target_3-hydroxycotinine  \\\n",
            "0                     ANKFN1                     0                         0   \n",
            "1                     ANKFN1                     0                         0   \n",
            "2                    MIR2053                     0                         0   \n",
            "3                    MIR2053                     0                         0   \n",
            "4                    MIR2053                     0                         0   \n",
            "...                      ...                   ...                       ...   \n",
            "3997                imatinib                     0                         0   \n",
            "3998         Transplantation                     0                         0   \n",
            "3999       mycophenolic acid                     0                         0   \n",
            "4000  Kidney Transplantation                     0                         0   \n",
            "4001    transplant rejection                     0                         0   \n",
            "\n",
            "      target_ABCB1  target_ABCB11  target_ABCB6  target_ABCC1  target_ABCC2  \\\n",
            "0                0              0             0             0             0   \n",
            "1                0              0             0             0             0   \n",
            "2                0              0             0             0             0   \n",
            "3                0              0             0             0             0   \n",
            "4                0              0             0             0             0   \n",
            "...            ...            ...           ...           ...           ...   \n",
            "3997             0              0             0             0             0   \n",
            "3998             0              0             0             0             0   \n",
            "3999             0              0             0             0             0   \n",
            "4000             0              0             0             0             0   \n",
            "4001             0              0             0             0             0   \n",
            "\n",
            "      target_ABCC4  target_ABCG1  ...  target_vancomycin  target_varenicline  \\\n",
            "0                0             0  ...                  0                   0   \n",
            "1                0             0  ...                  0                   0   \n",
            "2                0             0  ...                  0                   0   \n",
            "3                0             0  ...                  0                   0   \n",
            "4                0             0  ...                  0                   0   \n",
            "...            ...           ...  ...                ...                 ...   \n",
            "3997             0             0  ...                  0                   0   \n",
            "3998             0             0  ...                  0                   0   \n",
            "3999             0             0  ...                  0                   0   \n",
            "4000             0             0  ...                  0                   0   \n",
            "4001             0             0  ...                  0                   0   \n",
            "\n",
            "      target_venlafaxine  target_venous thromboembolism  target_vincristine  \\\n",
            "0                      0                              0                   0   \n",
            "1                      0                              0                   0   \n",
            "2                      0                              0                   0   \n",
            "3                      0                              0                   0   \n",
            "4                      0                              0                   0   \n",
            "...                  ...                            ...                 ...   \n",
            "3997                   0                              0                   0   \n",
            "3998                   0                              0                   0   \n",
            "3999                   0                              0                   0   \n",
            "4000                   0                              0                   0   \n",
            "4001                   0                              0                   0   \n",
            "\n",
            "      target_vitamin b-complex, plain  target_vitamin d and analogues  \\\n",
            "0                                   0                               0   \n",
            "1                                   0                               0   \n",
            "2                                   0                               0   \n",
            "3                                   0                               0   \n",
            "4                                   0                               0   \n",
            "...                               ...                             ...   \n",
            "3997                                0                               0   \n",
            "3998                                0                               0   \n",
            "3999                                0                               0   \n",
            "4000                                0                               0   \n",
            "4001                                0                               0   \n",
            "\n",
            "      target_voriconazole  target_warfarin  target_zuclopenthixol  \n",
            "0                       0                0                      0  \n",
            "1                       0                0                      0  \n",
            "2                       0                0                      0  \n",
            "3                       0                0                      0  \n",
            "4                       0                0                      0  \n",
            "...                   ...              ...                    ...  \n",
            "3997                    0                0                      0  \n",
            "3998                    0                0                      0  \n",
            "3999                    0                0                      0  \n",
            "4000                    0                0                      0  \n",
            "4001                    0                0                      0  \n",
            "\n",
            "[4002 rows x 1506 columns]\n"
          ]
        }
      ]
    },
    {
      "cell_type": "code",
      "source": [
        "# nodes2.iloc[[20]]"
      ],
      "metadata": {
        "id": "P8zCHWag0v_J"
      },
      "execution_count": null,
      "outputs": []
    },
    {
      "cell_type": "code",
      "source": [
        "# if nodes2['source'][20]==nodes2['source'][25]:\n",
        "#   k= nodes2.iloc[[20]]+ nodes2.iloc[[25]]\n",
        "# k"
      ],
      "metadata": {
        "id": "DoY0Gl9i29qn"
      },
      "execution_count": null,
      "outputs": []
    },
    {
      "cell_type": "code",
      "source": [
        "# nodes2.iloc[[20]]"
      ],
      "metadata": {
        "id": "sjzDDXh08Ege"
      },
      "execution_count": null,
      "outputs": []
    },
    {
      "cell_type": "code",
      "source": [
        "# nodes2.groupby('source')['target_ch2'].sum().reset_index()\n",
        "# nodes2"
      ],
      "metadata": {
        "id": "OkBwm8UW4_fH"
      },
      "execution_count": null,
      "outputs": []
    },
    {
      "cell_type": "code",
      "source": [
        "res = nodes2.groupby('source', as_index=False).sum()\n",
        "\n",
        "print(res)\n",
        "print(res.shape)"
      ],
      "metadata": {
        "colab": {
          "base_uri": "https://localhost:8080/"
        },
        "id": "oES5YpZCGiHt",
        "outputId": "326c4002-a537-4b22-c7cf-17a8c31a72a8"
      },
      "execution_count": null,
      "outputs": [
        {
          "output_type": "stream",
          "name": "stdout",
          "text": [
            "                        source  target_(S)-methadone  \\\n",
            "0                (S)-methadone                     0   \n",
            "1            3-hydroxycotinine                     0   \n",
            "2                        ABCB1                     0   \n",
            "3                       ABCB11                     0   \n",
            "4                        ABCB6                     0   \n",
            "...                        ...                   ...   \n",
            "1500  vitamin b-complex, plain                     0   \n",
            "1501   vitamin d and analogues                     0   \n",
            "1502              voriconazole                     0   \n",
            "1503                  warfarin                     0   \n",
            "1504            zuclopenthixol                     0   \n",
            "\n",
            "      target_3-hydroxycotinine  target_ABCB1  target_ABCB11  target_ABCB6  \\\n",
            "0                            0             0              0             0   \n",
            "1                            0             0              0             0   \n",
            "2                            0             0              0             0   \n",
            "3                            0             0              0             0   \n",
            "4                            0             0              0             0   \n",
            "...                        ...           ...            ...           ...   \n",
            "1500                         0             0              0             0   \n",
            "1501                         0             0              0             0   \n",
            "1502                         0             0              0             0   \n",
            "1503                         0             0              0             0   \n",
            "1504                         0             0              0             0   \n",
            "\n",
            "      target_ABCC1  target_ABCC2  target_ABCC4  target_ABCG1  ...  \\\n",
            "0                0             0             0             0  ...   \n",
            "1                0             0             0             0  ...   \n",
            "2                0             0             0             0  ...   \n",
            "3                0             0             0             0  ...   \n",
            "4                0             0             0             0  ...   \n",
            "...            ...           ...           ...           ...  ...   \n",
            "1500             0             0             0             0  ...   \n",
            "1501             0             0             0             0  ...   \n",
            "1502             0             1             0             0  ...   \n",
            "1503             0             0             0             0  ...   \n",
            "1504             0             0             0             0  ...   \n",
            "\n",
            "      target_vancomycin  target_varenicline  target_venlafaxine  \\\n",
            "0                     0                   0                   0   \n",
            "1                     0                   0                   0   \n",
            "2                     0                   0                   0   \n",
            "3                     0                   0                   0   \n",
            "4                     0                   0                   0   \n",
            "...                 ...                 ...                 ...   \n",
            "1500                  0                   0                   0   \n",
            "1501                  0                   0                   0   \n",
            "1502                  0                   0                   0   \n",
            "1503                  0                   0                   0   \n",
            "1504                  0                   0                   0   \n",
            "\n",
            "      target_venous thromboembolism  target_vincristine  \\\n",
            "0                                 0                   0   \n",
            "1                                 0                   0   \n",
            "2                                 0                   0   \n",
            "3                                 0                   0   \n",
            "4                                 0                   0   \n",
            "...                             ...                 ...   \n",
            "1500                              0                   0   \n",
            "1501                              0                   0   \n",
            "1502                              0                   0   \n",
            "1503                              0                   0   \n",
            "1504                              0                   0   \n",
            "\n",
            "      target_vitamin b-complex, plain  target_vitamin d and analogues  \\\n",
            "0                                   0                               0   \n",
            "1                                   0                               0   \n",
            "2                                   0                               0   \n",
            "3                                   0                               0   \n",
            "4                                   0                               0   \n",
            "...                               ...                             ...   \n",
            "1500                                0                               0   \n",
            "1501                                0                               0   \n",
            "1502                                0                               0   \n",
            "1503                                0                               0   \n",
            "1504                                0                               0   \n",
            "\n",
            "      target_voriconazole  target_warfarin  target_zuclopenthixol  \n",
            "0                       0                0                      0  \n",
            "1                       0                0                      0  \n",
            "2                       0                0                      0  \n",
            "3                       0                0                      0  \n",
            "4                       0                0                      0  \n",
            "...                   ...              ...                    ...  \n",
            "1500                    0                0                      0  \n",
            "1501                    0                0                      0  \n",
            "1502                    0                0                      0  \n",
            "1503                    0                0                      0  \n",
            "1504                    0                0                      0  \n",
            "\n",
            "[1505 rows x 1506 columns]\n",
            "(1505, 1506)\n"
          ]
        }
      ]
    },
    {
      "cell_type": "code",
      "source": [
        "import pandas as pd\n",
        "import torch\n",
        "import random\n",
        "from torch_geometric.data import Data\n",
        "# creating dummy targets (float values)\n",
        "# targets_data = [random.random() for i in range(10)]\n",
        "\n",
        "# # creating DataFrame from targets_data\n",
        "# targets_df = pd.DataFrame(data=targets_data)\n",
        "# targets_df.columns = ['target_ch1']\n",
        "outputs=[]\n",
        "\n",
        "for i in range(0,1505):\n",
        "  row_list = res.loc[i, :].values.flatten().tolist()[1:]\n",
        "  yaz=torch.tensor(list(row_list))\n",
        "  outputs.append(yaz)\n",
        "  result = torch.cat(outputs)\n",
        "print(result)\n",
        "# print(outputs)\n",
        "\n",
        "nodelarinfeat=torch.reshape(result, (1505, 1505))\n",
        "ilk=Data()\n",
        "ilk.x=nodelarinfeat\n"
      ],
      "metadata": {
        "colab": {
          "base_uri": "https://localhost:8080/"
        },
        "id": "MPnfKSPkg4z3",
        "outputId": "7e9e472d-57d5-454e-9bd7-21abb7322821"
      },
      "execution_count": null,
      "outputs": [
        {
          "output_type": "stream",
          "name": "stdout",
          "text": [
            "tensor([0, 0, 0,  ..., 0, 0, 0], dtype=torch.uint8)\n"
          ]
        }
      ]
    },
    {
      "cell_type": "code",
      "source": [
        "ilk"
      ],
      "metadata": {
        "colab": {
          "base_uri": "https://localhost:8080/"
        },
        "id": "6bHT9DgN-Mrr",
        "outputId": "0a23e103-4aaf-48f8-8d24-10fff01e2e96"
      },
      "execution_count": null,
      "outputs": [
        {
          "output_type": "execute_result",
          "data": {
            "text/plain": [
              "Data(x=[27, 16])"
            ]
          },
          "metadata": {},
          "execution_count": 74
        }
      ]
    },
    {
      "cell_type": "code",
      "source": [
        "nodes2.iloc[[20]]"
      ],
      "metadata": {
        "colab": {
          "base_uri": "https://localhost:8080/",
          "height": 145
        },
        "id": "OtKVdDr9jVdB",
        "outputId": "10303e5e-a598-4835-bc51-7fc451dafa97"
      },
      "execution_count": null,
      "outputs": [
        {
          "output_type": "execute_result",
          "data": {
            "text/plain": [
              "   source  target_ch1  target_ch2  target_ch4  target_dis10  target_dis6  \\\n",
              "20    ch5           0           0           0             0            0   \n",
              "\n",
              "    target_dis7  target_dis8  target_dis9  target_g1  target_g2  target_g3  \\\n",
              "20            0            0            0          0          0          0   \n",
              "\n",
              "    target_g4  target_v1  target_v2  target_v4  target_v7  \n",
              "20          0          0          1          0          0  "
            ],
            "text/html": [
              "\n",
              "  <div id=\"df-2dc49021-ed36-4e58-a7e9-7703119273e9\">\n",
              "    <div class=\"colab-df-container\">\n",
              "      <div>\n",
              "<style scoped>\n",
              "    .dataframe tbody tr th:only-of-type {\n",
              "        vertical-align: middle;\n",
              "    }\n",
              "\n",
              "    .dataframe tbody tr th {\n",
              "        vertical-align: top;\n",
              "    }\n",
              "\n",
              "    .dataframe thead th {\n",
              "        text-align: right;\n",
              "    }\n",
              "</style>\n",
              "<table border=\"1\" class=\"dataframe\">\n",
              "  <thead>\n",
              "    <tr style=\"text-align: right;\">\n",
              "      <th></th>\n",
              "      <th>source</th>\n",
              "      <th>target_ch1</th>\n",
              "      <th>target_ch2</th>\n",
              "      <th>target_ch4</th>\n",
              "      <th>target_dis10</th>\n",
              "      <th>target_dis6</th>\n",
              "      <th>target_dis7</th>\n",
              "      <th>target_dis8</th>\n",
              "      <th>target_dis9</th>\n",
              "      <th>target_g1</th>\n",
              "      <th>target_g2</th>\n",
              "      <th>target_g3</th>\n",
              "      <th>target_g4</th>\n",
              "      <th>target_v1</th>\n",
              "      <th>target_v2</th>\n",
              "      <th>target_v4</th>\n",
              "      <th>target_v7</th>\n",
              "    </tr>\n",
              "  </thead>\n",
              "  <tbody>\n",
              "    <tr>\n",
              "      <th>20</th>\n",
              "      <td>ch5</td>\n",
              "      <td>0</td>\n",
              "      <td>0</td>\n",
              "      <td>0</td>\n",
              "      <td>0</td>\n",
              "      <td>0</td>\n",
              "      <td>0</td>\n",
              "      <td>0</td>\n",
              "      <td>0</td>\n",
              "      <td>0</td>\n",
              "      <td>0</td>\n",
              "      <td>0</td>\n",
              "      <td>0</td>\n",
              "      <td>0</td>\n",
              "      <td>1</td>\n",
              "      <td>0</td>\n",
              "      <td>0</td>\n",
              "    </tr>\n",
              "  </tbody>\n",
              "</table>\n",
              "</div>\n",
              "      <button class=\"colab-df-convert\" onclick=\"convertToInteractive('df-2dc49021-ed36-4e58-a7e9-7703119273e9')\"\n",
              "              title=\"Convert this dataframe to an interactive table.\"\n",
              "              style=\"display:none;\">\n",
              "        \n",
              "  <svg xmlns=\"http://www.w3.org/2000/svg\" height=\"24px\"viewBox=\"0 0 24 24\"\n",
              "       width=\"24px\">\n",
              "    <path d=\"M0 0h24v24H0V0z\" fill=\"none\"/>\n",
              "    <path d=\"M18.56 5.44l.94 2.06.94-2.06 2.06-.94-2.06-.94-.94-2.06-.94 2.06-2.06.94zm-11 1L8.5 8.5l.94-2.06 2.06-.94-2.06-.94L8.5 2.5l-.94 2.06-2.06.94zm10 10l.94 2.06.94-2.06 2.06-.94-2.06-.94-.94-2.06-.94 2.06-2.06.94z\"/><path d=\"M17.41 7.96l-1.37-1.37c-.4-.4-.92-.59-1.43-.59-.52 0-1.04.2-1.43.59L10.3 9.45l-7.72 7.72c-.78.78-.78 2.05 0 2.83L4 21.41c.39.39.9.59 1.41.59.51 0 1.02-.2 1.41-.59l7.78-7.78 2.81-2.81c.8-.78.8-2.07 0-2.86zM5.41 20L4 18.59l7.72-7.72 1.47 1.35L5.41 20z\"/>\n",
              "  </svg>\n",
              "      </button>\n",
              "      \n",
              "  <style>\n",
              "    .colab-df-container {\n",
              "      display:flex;\n",
              "      flex-wrap:wrap;\n",
              "      gap: 12px;\n",
              "    }\n",
              "\n",
              "    .colab-df-convert {\n",
              "      background-color: #E8F0FE;\n",
              "      border: none;\n",
              "      border-radius: 50%;\n",
              "      cursor: pointer;\n",
              "      display: none;\n",
              "      fill: #1967D2;\n",
              "      height: 32px;\n",
              "      padding: 0 0 0 0;\n",
              "      width: 32px;\n",
              "    }\n",
              "\n",
              "    .colab-df-convert:hover {\n",
              "      background-color: #E2EBFA;\n",
              "      box-shadow: 0px 1px 2px rgba(60, 64, 67, 0.3), 0px 1px 3px 1px rgba(60, 64, 67, 0.15);\n",
              "      fill: #174EA6;\n",
              "    }\n",
              "\n",
              "    [theme=dark] .colab-df-convert {\n",
              "      background-color: #3B4455;\n",
              "      fill: #D2E3FC;\n",
              "    }\n",
              "\n",
              "    [theme=dark] .colab-df-convert:hover {\n",
              "      background-color: #434B5C;\n",
              "      box-shadow: 0px 1px 3px 1px rgba(0, 0, 0, 0.15);\n",
              "      filter: drop-shadow(0px 1px 2px rgba(0, 0, 0, 0.3));\n",
              "      fill: #FFFFFF;\n",
              "    }\n",
              "  </style>\n",
              "\n",
              "      <script>\n",
              "        const buttonEl =\n",
              "          document.querySelector('#df-2dc49021-ed36-4e58-a7e9-7703119273e9 button.colab-df-convert');\n",
              "        buttonEl.style.display =\n",
              "          google.colab.kernel.accessAllowed ? 'block' : 'none';\n",
              "\n",
              "        async function convertToInteractive(key) {\n",
              "          const element = document.querySelector('#df-2dc49021-ed36-4e58-a7e9-7703119273e9');\n",
              "          const dataTable =\n",
              "            await google.colab.kernel.invokeFunction('convertToInteractive',\n",
              "                                                     [key], {});\n",
              "          if (!dataTable) return;\n",
              "\n",
              "          const docLinkHtml = 'Like what you see? Visit the ' +\n",
              "            '<a target=\"_blank\" href=https://colab.research.google.com/notebooks/data_table.ipynb>data table notebook</a>'\n",
              "            + ' to learn more about interactive tables.';\n",
              "          element.innerHTML = '';\n",
              "          dataTable['output_type'] = 'display_data';\n",
              "          await google.colab.output.renderOutput(dataTable, element);\n",
              "          const docLink = document.createElement('div');\n",
              "          docLink.innerHTML = docLinkHtml;\n",
              "          element.appendChild(docLink);\n",
              "        }\n",
              "      </script>\n",
              "    </div>\n",
              "  </div>\n",
              "  "
            ]
          },
          "metadata": {},
          "execution_count": 27
        }
      ]
    },
    {
      "cell_type": "code",
      "source": [
        "# row_list = nodes2.loc[20, :].values.flatten().tolist()[1:]\n",
        "# # # yeni=row_list[1:]\n",
        "# row_list"
      ],
      "metadata": {
        "id": "psl4-ZwQkUou"
      },
      "execution_count": null,
      "outputs": []
    },
    {
      "cell_type": "code",
      "source": [
        "# list(nodes2['target_ch1'])"
      ],
      "metadata": {
        "id": "vPZWiXFqjCmA"
      },
      "execution_count": null,
      "outputs": []
    },
    {
      "cell_type": "code",
      "source": [
        "nodes3=nodes2.T"
      ],
      "metadata": {
        "id": "PlrCnusFiPZA"
      },
      "execution_count": null,
      "outputs": []
    },
    {
      "cell_type": "code",
      "source": [
        "# nodes3"
      ],
      "metadata": {
        "id": "NoOT2p2qig8x"
      },
      "execution_count": null,
      "outputs": []
    },
    {
      "cell_type": "code",
      "source": [
        "# targets_df = pd.DataFrame(data=targets_data)\n",
        "# targets_df.columns = ['ch1']\n",
        "\n",
        "# torch.tensor(nodes3[0])"
      ],
      "metadata": {
        "id": "-UTfp9vliefe"
      },
      "execution_count": null,
      "outputs": []
    }
  ],
  "metadata": {
    "colab": {
      "provenance": []
    },
    "gpuClass": "standard",
    "kernelspec": {
      "display_name": "Python 3",
      "name": "python3"
    },
    "language_info": {
      "name": "python"
    }
  },
  "nbformat": 4,
  "nbformat_minor": 0
}